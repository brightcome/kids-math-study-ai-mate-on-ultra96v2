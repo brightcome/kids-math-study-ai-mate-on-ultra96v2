{
 "cells": [
  {
   "cell_type": "markdown",
   "metadata": {
    "id": "9x9BFQOfNowN"
   },
   "source": [
    "## STEP 1 Install Darknet\n"
   ]
  },
  {
   "cell_type": "markdown",
   "metadata": {
    "id": "36Bbw5KG9NJN"
   },
   "source": [
    "# Tutorial: Training a Yolov4 Object Detector with poker cards images\n",
    "\n",
    "\n",
    "\n",
    "In this tutorial we will train an object detector using the Yolo v4 model. This model will run on Ultra96v2 board.\n",
    "\n",
    "The model is pretrained on the COCO dataset. The framework used for training is Darknet.\n",
    "Will run through the following steps:\n",
    "\n",
    "\n",
    "*   Install the libraries (Darknet , etc.)\n",
    "*   Clone the github repo and replace the repo training data with your data (from google drive or from own repo - which is faster)\n",
    "*   Train the model on the new images\n",
    "\n",
    "\n",
    "You can make a copy of this tutorial: File-> Save a copy in Drive\n",
    "\n",
    "Note: the model training can be run with the repo images of 6 poker cards.If you choose to skip the customization part for your own images just to see how the training and the rest of the steps work."
   ]
  },
  {
   "cell_type": "markdown",
   "metadata": {
    "id": "B9UVoaBDhDb4"
   },
   "source": []
  },
  {
   "cell_type": "code",
   "execution_count": 3,
   "metadata": {
    "id": "Pt0Y06QTNyZG"
   },
   "outputs": [],
   "source": [
    "%%capture\n",
    "!git clone https://github.com/AlexeyAB/darknet.git\n",
    "%cd darknet\n",
    "import re\n",
    "!sed -i 's/OPENCV=0/OPENCV=1/' Makefile\n",
    "!sed -i 's/GPU=0/GPU=1/' Makefile\n",
    "!sed -i 's/CUDNN=0/CUDNN=1/' Makefile\n",
    "# !sed -i 's/CUDNN_HALF=0/CUDNN_HALF=1/' Makefile\n",
    "!make\n",
    "!chmod +x ./darknet\n"
   ]
  },
  {
   "cell_type": "code",
   "execution_count": 4,
   "metadata": {
    "colab": {
     "base_uri": "https://localhost:8080/"
    },
    "id": "m88U5A5Kl21f",
    "outputId": "2a7a54d6-b18b-43f6-de4a-9af2940af6d3"
   },
   "outputs": [
    {
     "name": "stderr",
     "output_type": "stream",
     "text": [
      "UsageError: Line magic function `%tensorflow_version` not found.\n"
     ]
    }
   ],
   "source": [
    "%tensorflow_version 1.x"
   ]
  },
  {
   "cell_type": "code",
   "execution_count": null,
   "metadata": {
    "colab": {
     "base_uri": "https://localhost:8080/",
     "height": 35
    },
    "id": "TufrIIQAlIt4",
    "outputId": "1823601a-6edc-4a83-a634-8094797b1bec"
   },
   "outputs": [],
   "source": [
    "import tensorflow as tf\n",
    "tf.__version__"
   ]
  },
  {
   "cell_type": "code",
   "execution_count": null,
   "metadata": {
    "id": "WD5FBWmjrsks"
   },
   "outputs": [],
   "source": [
    "#utility function\n",
    "def imShow(path):\n",
    "  import cv2\n",
    "  import matplotlib.pyplot as plt\n",
    "  %matplotlib inline\n",
    "\n",
    "  image = cv2.imread(path)\n",
    "  height, width = image.shape[:2]\n",
    "  resized_image = cv2.resize(image,(3*width, 3*height), interpolation = cv2.INTER_CUBIC)\n",
    "\n",
    "  fig = plt.gcf()\n",
    "  fig.set_size_inches(18, 10)\n",
    "  plt.axis(\"off\")\n",
    "  #plt.rcParams['figure.figsize'] = [10, 5]\n",
    "  plt.imshow(cv2.cvtColor(resized_image, cv2.COLOR_BGR2RGB))\n",
    "  plt.show()\n",
    "  \n",
    "  \n"
   ]
  },
  {
   "cell_type": "markdown",
   "metadata": {
    "id": "a7_yikWWhqCi"
   },
   "source": [
    "## Clone a reference/blueprint repo\n",
    "This repo provide the flow from yolov4 model training to deployment.\n",
    "In order to train on your own data, this repo can be used as a blueprint. \n",
    "Changes to some files need to be made according to own data, but it is nothing complicated."
   ]
  },
  {
   "cell_type": "code",
   "execution_count": 6,
   "metadata": {
    "colab": {
     "base_uri": "https://localhost:8080/"
    },
    "id": "Qs8vZ5uK7Ry9",
    "outputId": "2b46e3ba-c28f-4996-eec2-9264486a5dae"
   },
   "outputs": [
    {
     "name": "stdout",
     "output_type": "stream",
     "text": [
      "/content\n",
      "Cloning into 'kids-math-study-ai-mate-on-ultra96v2'...\n",
      "remote: Enumerating objects: 11, done.\u001b[K\n",
      "remote: Counting objects: 100% (11/11), done.\u001b[K\n",
      "remote: Compressing objects: 100% (11/11), done.\u001b[K\n",
      "remote: Total 120 (delta 4), reused 0 (delta 0), pack-reused 109\u001b[K\n",
      "Receiving objects: 100% (120/120), 224.89 MiB | 50.54 MiB/s, done.\n",
      "Resolving deltas: 100% (9/9), done.\n",
      "darknet  kids-math-study-ai-mate-on-ultra96v2  sample_data\n"
     ]
    }
   ],
   "source": [
    "#!pwd\n",
    "%cd ..\n",
    "!git clone https://github.com/brightcome/kids-math-study-ai-mate-on-ultra96v2\n",
    "!ls\n"
   ]
  },
  {
   "cell_type": "markdown",
   "metadata": {
    "id": "wvHPNTpyiXiz"
   },
   "source": [
    "### Now go to the file explorer on the left of the colab notebook and click on content then on the \"kids-math-study-ai-mate-on-ultra96v2\" folder.\n",
    "Here you will see a folder and a few files.\n",
    "The `train_images` folder contains both images AND the associated annotations in yolo format. \n",
    "\n",
    "(to annotate own images use https://github.com/tzutalin/labelImg and save annotations in yolo format)\n",
    "The dk_files folder contains training related files and command.\n",
    "* the 'obj.data' file contains paths for files used by Darknet and the number of classes to train the yolo model.\n",
    "\n",
    "* the 'obj.names' file has the labels of the objects to be detected. the number of objects gives the number of classes in the 'obj.data' file.\n",
    "\n",
    "* the train_list.txt contains the path to each image to be used in training. similarly, valid_list.txt contains the path to each image for testing. when not many images are available for training (a few hundred), use all images for training for better model performance. As a simple demo , I only have 40 images for training and validation. You should take pictures by your own and add more pictures into the folder.\n",
    "\n",
    "The dk_model folder contains darknet yolov4 model file.\n",
    "* the yolov4-leaky_best.weights.7z.001 are the COCO pretrained weights. Please unzip the package files. \n",
    "\n",
    "* the yolov4-leaky_obj.cfg are is the yolov4 configuration file that tells Darknet the model parameters and structure. the cfg file has been changed according to my demo requirement- 6 classes.\n",
    "\n",
    "So you should change according to your data and classes, if needed.\n"
   ]
  },
  {
   "cell_type": "markdown",
   "metadata": {
    "id": "MZJ8-ZQqpacd"
   },
   "source": [
    "# How to use your own images\n",
    "In order to use your own annotated images, follow the steps below. If you want to train on the images already in the repo, skip this section and jump to the Train model section."
   ]
  },
  {
   "cell_type": "markdown",
   "metadata": {
    "id": "dgoBpxrIo7nU"
   },
   "source": [
    "## Let's start with the images and annotations. I will use my images as example.\n",
    "We copy the images on our google drive in a folder. My gdrive folder is named medmask_yolo. Then we mount the gdrive in colab and copy the images and annotations in the obj folder."
   ]
  },
  {
   "cell_type": "markdown",
   "metadata": {
    "id": "4lyEvvuQBDGy"
   },
   "source": [
    "clone one repo for the poker training image reference."
   ]
  },
  {
   "cell_type": "code",
   "execution_count": 8,
   "metadata": {
    "colab": {
     "base_uri": "https://localhost:8080/"
    },
    "id": "bX4xbbl8BCwX",
    "outputId": "5ae7e8c8-24e1-42ba-b327-c262f09b2bc6"
   },
   "outputs": [
    {
     "name": "stdout",
     "output_type": "stream",
     "text": [
      "Cloning into 'TensorFlow-Poker-Object-Detection'...\n",
      "remote: Enumerating objects: 960, done.\u001b[K\n",
      "remote: Total 960 (delta 0), reused 0 (delta 0), pack-reused 960\u001b[K\n",
      "Receiving objects: 100% (960/960), 57.13 MiB | 39.48 MiB/s, done.\n",
      "Resolving deltas: 100% (466/466), done.\n"
     ]
    }
   ],
   "source": [
    "!git clone https://github.com/AbinMM/TensorFlow-Poker-Object-Detection\n",
    "!ls"
   ]
  },
  {
   "cell_type": "markdown",
   "metadata": {
    "id": "XZEjQLVHBwIp"
   },
   "source": [
    "copy the images to our Repo"
   ]
  },
  {
   "cell_type": "code",
   "execution_count": 12,
   "metadata": {
    "id": "riBL0YiNp2aG"
   },
   "outputs": [],
   "source": [
    "!rm -rf ./kids-math-study-ai-mate-on-ultra96v2/train_images/*.jpg\n",
    "!rm -rf ./kids-math-study-ai-mate-on-ultra96v2/train_images/*.txt\n",
    "!rm -rf ./kids-math-study-ai-mate-on-ultra96v2/train_images/*.labels\n",
    "!cp -rf ./TensorFlow-Poker-Object-Detection/images/test ./kids-math-study-ai-mate-on-ultra96v2/train_images\n",
    "!cp -rf ./TensorFlow-Poker-Object-Detection/images/train ./kids-math-study-ai-mate-on-ultra96v2/train_images"
   ]
  },
  {
   "cell_type": "markdown",
   "metadata": {
    "id": "OZVxjWWaD50h"
   },
   "source": [
    "convert the label files from xml to yolo format.run the covert scripts"
   ]
  },
  {
   "cell_type": "code",
   "execution_count": 15,
   "metadata": {
    "colab": {
     "base_uri": "https://localhost:8080/"
    },
    "id": "h4o_aHdYEBT_",
    "outputId": "48fe0b0e-b251-40d3-c689-cff294cdf4bf"
   },
   "outputs": [
    {
     "name": "stdout",
     "output_type": "stream",
     "text": [
      "/content/kids-math-study-ai-mate-on-ultra96v2/train_images\n",
      "train/cam_image30\n",
      "train/IMG_2523\n",
      "train/cam_image16\n",
      "train/IMG_2513\n",
      "train/IMG_2487\n",
      "train/IMG_2514\n",
      "train/cam_image36\n",
      "train/IMG_2402\n",
      "train/IMG_2466\n",
      "train/IMG_2406\n",
      "train/IMG_2492\n",
      "train/IMG_2502\n",
      "train/IMG_2660\n",
      "train/IMG_2509\n",
      "train/IMG_2398\n",
      "train/IMG_2467\n",
      "train/IMG_2611\n",
      "train/cam_image23\n",
      "train/IMG_2596\n",
      "train/cam_image29\n",
      "train/IMG_2428\n",
      "train/IMG_2421\n",
      "train/IMG_2416\n",
      "train/IMG_2494\n",
      "train/IMG_2616\n",
      "train/IMG_2442\n",
      "train/IMG_2622\n",
      "train/IMG_2543\n",
      "train/IMG_2687\n",
      "train/IMG_2400\n",
      "train/cam_image44\n",
      "train/IMG_2508\n",
      "train/IMG_2524\n",
      "train/IMG_2563\n",
      "train/IMG_2632\n",
      "train/IMG_2481\n",
      "train/IMG_2390\n",
      "train/IMG_2618\n",
      "train/IMG_2464\n",
      "train/IMG_2650\n",
      "train/IMG_2447\n",
      "train/IMG_2413\n",
      "train/IMG_2673\n",
      "train/IMG_2422\n",
      "train/IMG_2415\n",
      "train/IMG_2499\n",
      "train/IMG_2386\n",
      "train/IMG_2486\n",
      "train/IMG_2536\n",
      "train/IMG_2674\n",
      "train/IMG_2668\n",
      "train/IMG_2522\n",
      "train/IMG_2549\n",
      "train/IMG_2504\n",
      "train/IMG_2517\n",
      "train/IMG_2601\n",
      "train/IMG_2630\n",
      "train/IMG_2615\n",
      "train/IMG_2434\n",
      "train/IMG_2411\n",
      "train/IMG_2626\n",
      "train/IMG_2648\n",
      "train/IMG_2570\n",
      "train/IMG_2515\n",
      "train/IMG_2480\n",
      "train/cam_image26\n",
      "train/IMG_2566\n",
      "train/IMG_2657\n",
      "train/IMG_2512\n",
      "train/IMG_2643\n",
      "train/IMG_2582\n",
      "train/IMG_2506\n",
      "train/cam_image18\n",
      "train/IMG_2649\n",
      "train/IMG_2645\n",
      "train/IMG_2584\n",
      "train/IMG_2587\n",
      "train/IMG_2497\n",
      "train/IMG_2429\n",
      "train/IMG_2698\n",
      "train/IMG_2562\n",
      "train/cam_image42\n",
      "train/IMG_2538\n",
      "train/IMG_2576\n",
      "train/IMG_2692\n",
      "train/IMG_2535\n",
      "train/IMG_2659\n",
      "train/IMG_2389\n",
      "train/IMG_2602\n",
      "train/cam_image14\n",
      "train/cam_image38\n",
      "train/cam_image46\n",
      "train/IMG_2525\n",
      "train/IMG_2680\n",
      "train/IMG_2420\n",
      "train/IMG_2410\n",
      "train/IMG_2565\n",
      "train/cam_image31\n",
      "train/IMG_2613\n",
      "train/IMG_2628\n",
      "train/IMG_2437\n",
      "train/IMG_2605\n",
      "train/IMG_2685\n",
      "train/IMG_2612\n",
      "train/IMG_2608\n",
      "train/cam_image35\n",
      "train/IMG_2401\n",
      "train/cam_image15\n",
      "train/IMG_2407\n",
      "train/cam_image48\n",
      "train/cam_image34\n",
      "train/IMG_2627\n",
      "train/cam_image13\n",
      "train/cam_image3\n",
      "train/cam_image41\n",
      "train/IMG_2450\n",
      "train/IMG_2690\n",
      "train/IMG_2489\n",
      "train/IMG_2695\n",
      "train/IMG_2516\n",
      "train/cam_image28\n",
      "train/IMG_2635\n",
      "train/IMG_2396\n",
      "train/IMG_2520\n",
      "train/cam_image33\n",
      "train/IMG_2578\n",
      "train/IMG_2397\n",
      "train/IMG_2393\n",
      "train/IMG_2521\n",
      "train/cam_image20\n",
      "train/IMG_2453\n",
      "train/IMG_2642\n",
      "train/IMG_2700\n",
      "train/cam_image21\n",
      "train/cam_image51\n",
      "train/IMG_2671\n",
      "train/IMG_2537\n",
      "train/IMG_2456\n",
      "train/IMG_2449\n",
      "train/IMG_2423\n",
      "train/IMG_2392\n",
      "train/IMG_2655\n",
      "train/IMG_2451\n",
      "train/IMG_2702\n",
      "train/cam_image1\n",
      "train/cam_image19\n",
      "train/IMG_2603\n",
      "train/IMG_2567\n",
      "train/IMG_2458\n",
      "train/IMG_2644\n",
      "train/IMG_2558\n",
      "train/IMG_2701\n",
      "train/IMG_2638\n",
      "train/IMG_2684\n",
      "train/IMG_2490\n",
      "train/IMG_2590\n",
      "train/IMG_2588\n",
      "train/IMG_2694\n",
      "train/IMG_2548\n",
      "train/IMG_2545\n",
      "train/IMG_2624\n",
      "train/IMG_2542\n",
      "train/IMG_2637\n",
      "train/IMG_2446\n",
      "train/IMG_2419\n",
      "train/cam_image11\n",
      "train/IMG_2609\n",
      "train/IMG_2581\n",
      "train/IMG_2607\n",
      "train/IMG_2430\n",
      "train/IMG_2661\n",
      "train/IMG_2507\n",
      "train/IMG_2388\n",
      "train/IMG_2474\n",
      "train/IMG_2468\n",
      "train/IMG_2424\n",
      "train/cam_image47\n",
      "train/IMG_2518\n",
      "train/IMG_2683\n",
      "train/IMG_2667\n",
      "train/IMG_2569\n",
      "train/IMG_2577\n",
      "train/IMG_2452\n",
      "train/IMG_2409\n",
      "train/IMG_2689\n",
      "train/IMG_2425\n",
      "train/IMG_2412\n",
      "train/cam_image40\n",
      "train/IMG_2477\n",
      "train/cam_image27\n",
      "train/IMG_2589\n",
      "train/IMG_2559\n",
      "train/IMG_2527\n",
      "train/IMG_2552\n",
      "train/IMG_2426\n",
      "train/IMG_2620\n",
      "train/IMG_2501\n",
      "train/IMG_2593\n",
      "train/IMG_2623\n",
      "train/IMG_2664\n",
      "train/IMG_2414\n",
      "train/IMG_2669\n",
      "train/cam_image52\n",
      "train/IMG_2459\n",
      "train/IMG_2454\n",
      "train/IMG_2528\n",
      "train/IMG_2641\n",
      "train/IMG_2488\n",
      "train/cam_image37\n",
      "train/IMG_2621\n",
      "train/cam_image54\n",
      "train/IMG_2385\n",
      "train/IMG_2431\n",
      "train/IMG_2443\n",
      "train/IMG_2691\n",
      "train/IMG_2478\n",
      "train/IMG_2658\n",
      "train/IMG_2462\n",
      "train/IMG_2465\n",
      "train/IMG_2574\n",
      "train/IMG_2408\n",
      "train/cam_image12\n",
      "train/IMG_2666\n",
      "train/IMG_2483\n",
      "train/IMG_2491\n",
      "train/IMG_2457\n",
      "train/IMG_2597\n",
      "train/cam_image32\n",
      "train/IMG_2631\n",
      "train/IMG_2704\n",
      "train/cam_image43\n",
      "train/IMG_2556\n",
      "train/IMG_2498\n",
      "train/IMG_2460\n",
      "train/IMG_2495\n",
      "train/IMG_2472\n",
      "train/IMG_2653\n",
      "train/IMG_2696\n",
      "train/IMG_2505\n",
      "train/IMG_2469\n",
      "train/IMG_2679\n",
      "train/IMG_2496\n",
      "train/cam_image50\n",
      "train/IMG_2697\n",
      "train/IMG_2682\n",
      "train/IMG_2572\n",
      "train/IMG_2633\n",
      "train/IMG_2484\n",
      "train/IMG_2672\n",
      "train/IMG_2500\n",
      "train/IMG_2599\n",
      "train/IMG_2617\n",
      "train/IMG_2475\n",
      "train/cam_image9\n",
      "train/IMG_2399\n",
      "train/IMG_2511\n",
      "train/IMG_2693\n",
      "train/IMG_2619\n",
      "train/IMG_2471\n",
      "train/IMG_2699\n",
      "train/IMG_2586\n",
      "train/IMG_2526\n",
      "train/IMG_2455\n",
      "train/cam_image17\n",
      "train/IMG_2418\n",
      "train/cam_image24\n",
      "train/IMG_2533\n",
      "train/cam_image22\n",
      "train/IMG_2404\n",
      "train/IMG_2529\n",
      "train/cam_image25\n",
      "train/IMG_2553\n",
      "train/IMG_2439\n",
      "train/IMG_2394\n",
      "train/IMG_2663\n",
      "train/IMG_2417\n",
      "train/IMG_2405\n",
      "train/IMG_2503\n",
      "train/IMG_2546\n",
      "train/IMG_2493\n",
      "train/IMG_2652\n",
      "train/IMG_2441\n",
      "train/IMG_2610\n",
      "train/IMG_2665\n",
      "train/cam_image10\n",
      "train/cam_image39\n",
      "train/IMG_2703\n",
      "train/IMG_2448\n",
      "train/IMG_2614\n",
      "train/IMG_2579\n",
      "train/IMG_2427\n",
      "train/IMG_2473\n",
      "train/IMG_2445\n",
      "train/IMG_2681\n",
      "train/IMG_2629\n",
      "train/IMG_2519\n",
      "train image convert done.\n",
      "test/IMG_2387\n",
      "test/IMG_2573\n",
      "test/IMG_2544\n",
      "test/IMG_2568\n",
      "test/IMG_2395\n",
      "test/IMG_2571\n",
      "test/IMG_2585\n",
      "test/IMG_2531\n",
      "test/cam_image45\n",
      "test/cam_image7\n",
      "test/IMG_2510\n",
      "test/IMG_2539\n",
      "test/IMG_2383\n",
      "test/IMG_2554\n",
      "test/IMG_2560\n",
      "test/IMG_2403\n",
      "test/IMG_2591\n",
      "test/IMG_2639\n",
      "test/IMG_2540\n",
      "test/IMG_2678\n",
      "test/IMG_2604\n",
      "test/IMG_2656\n",
      "test/IMG_2595\n",
      "test/IMG_2550\n",
      "test/IMG_2651\n",
      "test/IMG_2583\n",
      "test/IMG_2440\n",
      "test/cam_image8\n",
      "test/cam_image2\n",
      "test/IMG_2662\n",
      "test/IMG_2391\n",
      "test/cam_image6\n",
      "test/IMG_2435\n",
      "test/IMG_2470\n",
      "test/IMG_2580\n",
      "test/IMG_2485\n",
      "test/IMG_2532\n",
      "test/IMG_2555\n",
      "test/IMG_2479\n",
      "test/IMG_2634\n",
      "test/IMG_2592\n",
      "test/IMG_2482\n",
      "test/IMG_2600\n",
      "test/IMG_2654\n",
      "test/IMG_2640\n",
      "test/IMG_2461\n",
      "test/IMG_2551\n",
      "test/IMG_2557\n",
      "test/IMG_2433\n",
      "test/IMG_2476\n",
      "test/IMG_2530\n",
      "test/IMG_2463\n",
      "test/cam_image4\n",
      "test/IMG_2670\n",
      "test/IMG_2436\n",
      "test/IMG_2564\n",
      "test/IMG_2598\n",
      "test/IMG_2432\n",
      "test/IMG_2677\n",
      "test/IMG_2675\n",
      "test/cam_image5\n",
      "test/IMG_2384\n",
      "test/IMG_2561\n",
      "test/IMG_2636\n",
      "test/IMG_2686\n",
      "test/IMG_2647\n",
      "test/IMG_2594\n",
      "test image convert done.\n",
      "xml to yolo format convert done.\n"
     ]
    }
   ],
   "source": [
    "%cd kids-math-study-ai-mate-on-ultra96v2/train_images/\n",
    "!python label_xml2yolo.py"
   ]
  },
  {
   "cell_type": "markdown",
   "metadata": {
    "id": "NowkXE9yFvQF"
   },
   "source": [
    "After the conversion is completed, transfer the images to darknet files folder."
   ]
  },
  {
   "cell_type": "code",
   "execution_count": 19,
   "metadata": {
    "colab": {
     "base_uri": "https://localhost:8080/"
    },
    "id": "E-rIHLrdqMNP",
    "outputId": "9aacaa8f-fa48-4c6d-9e98-82119ce788f4"
   },
   "outputs": [
    {
     "name": "stdout",
     "output_type": "stream",
     "text": [
      "/content/kids-math-study-ai-mate-on-ultra96v2/train_images\n"
     ]
    }
   ],
   "source": [
    "#copy images to dk_files folder\n",
    "#this can take a few minutes depending on dataset size. \n",
    "!pwd\n",
    "#%cd ./dk_files/\n",
    "!cp -rf ./train/*.* ../dk_files/obj\n",
    "!cp -rf ./test/*.* ../dk_files/obj"
   ]
  },
  {
   "cell_type": "markdown",
   "metadata": {
    "id": "ZIXMCEMBzbMK"
   },
   "source": [
    "### generate image files list for training\n",
    "The image convert package do NOT include list , so need generate."
   ]
  },
  {
   "cell_type": "code",
   "execution_count": null,
   "metadata": {
    "colab": {
     "base_uri": "https://localhost:8080/"
    },
    "id": "tB2uZKhoyNFv",
    "outputId": "96a25eb6-a8a8-4483-bc05-ae6c611cf9a7"
   },
   "outputs": [
    {
     "name": "stdout",
     "output_type": "stream",
     "text": [
      "/content/Vitis-In-Depth-Tutorial/Machine_Learning/Design_Tutorials/07-yolov4-tutorial/dk_files\n",
      "/content/Vitis-In-Depth-Tutorial/Machine_Learning/Design_Tutorials/07-yolov4-tutorial/dk_files\n",
      "/content/Vitis-In-Depth-Tutorial/Machine_Learning/Design_Tutorials/07-yolov4-tutorial/dk_files/train\n",
      "/content/Vitis-In-Depth-Tutorial/Machine_Learning/Design_Tutorials/07-yolov4-tutorial/dk_files\n",
      "/content/Vitis-In-Depth-Tutorial/Machine_Learning/Design_Tutorials/07-yolov4-tutorial/dk_files/valid\n",
      "/content/Vitis-In-Depth-Tutorial/Machine_Learning/Design_Tutorials/07-yolov4-tutorial/dk_files\n"
     ]
    }
   ],
   "source": [
    "%cd /content/Vitis-In-Depth-Tutorial/Machine_Learning/Design_Tutorials/07-yolov4-tutorial/dk_files/\n",
    "!pwd\n",
    "%cd ./train\n",
    "!ls *.jpg > ../train_list.txt\n",
    "%cd ../\n",
    "%cd ./valid\n",
    "!ls *.jpg > ../valid_list.txt\n",
    "%cd ../"
   ]
  },
  {
   "cell_type": "markdown",
   "metadata": {
    "id": "UUPvaqdfz3r6"
   },
   "source": [
    "extract the pre-trained yolov4 model weights"
   ]
  },
  {
   "cell_type": "code",
   "execution_count": 24,
   "metadata": {
    "colab": {
     "base_uri": "https://localhost:8080/"
    },
    "id": "XBzp4jD_z3Cf",
    "outputId": "75de8766-3e7c-49c8-ee09-b59ec9733c94"
   },
   "outputs": [
    {
     "name": "stdout",
     "output_type": "stream",
     "text": [
      "/content/kids-math-study-ai-mate-on-ultra96v2/dk_files\n",
      "/content/kids-math-study-ai-mate-on-ultra96v2/dk_model\n",
      "\n",
      "7-Zip [64] 16.02 : Copyright (c) 1999-2016 Igor Pavlov : 2016-05-21\n",
      "p7zip Version 16.02 (locale=en_US.UTF-8,Utf16=on,HugeFiles=on,64 bits,2 CPUs Intel(R) Xeon(R) CPU @ 2.30GHz (306F0),ASM,AES-NI)\n",
      "\n",
      "Scanning the drive for archives:\n",
      "  0M Scan\b\b\b\b\b\b\b\b\b         \b\b\b\b\b\b\b\b\b1 file, 24641535 bytes (24 MiB)\n",
      "\n",
      "Extracting archive: yolov4-leaky_best.weights.7z.001\n",
      "  0% 1 Open\b\b\b\b\b\b\b\b\b\b\b           \b\b\b\b\b\b\b\b\b\b\b--\n",
      "Path = yolov4-leaky_best.weights.7z.001\n",
      "Type = Split\n",
      "Physical Size = 24641535\n",
      "Volumes = 10\n",
      "Total Physical Size = 234427775\n",
      "----\n",
      "Path = yolov4-leaky_best.weights.7z\n",
      "Size = 234427775\n",
      "--\n",
      "Path = yolov4-leaky_best.weights.7z\n",
      "Type = 7z\n",
      "Physical Size = 234427775\n",
      "Headers Size = 152\n",
      "Method = LZMA:25\n",
      "Solid = -\n",
      "Blocks = 1\n",
      "\n",
      "  0%\b\b\b\b    \b\b\b\b  1%\b\b\b\b    \b\b\b\b  2% - yolov4-leaky_best.weights\b\b\b\b\b\b\b\b\b\b\b\b\b\b\b\b\b\b\b\b\b\b\b\b\b\b\b\b\b\b\b\b                                \b\b\b\b\b\b\b\b\b\b\b\b\b\b\b\b\b\b\b\b\b\b\b\b\b\b\b\b\b\b\b\b  3% - yolov4-leaky_best.weights\b\b\b\b\b\b\b\b\b\b\b\b\b\b\b\b\b\b\b\b\b\b\b\b\b\b\b\b\b\b\b\b                                \b\b\b\b\b\b\b\b\b\b\b\b\b\b\b\b\b\b\b\b\b\b\b\b\b\b\b\b\b\b\b\b  5% - yolov4-leaky_best.weights\b\b\b\b\b\b\b\b\b\b\b\b\b\b\b\b\b\b\b\b\b\b\b\b\b\b\b\b\b\b\b\b                                \b\b\b\b\b\b\b\b\b\b\b\b\b\b\b\b\b\b\b\b\b\b\b\b\b\b\b\b\b\b\b\b  6% - yolov4-leaky_best.weights\b\b\b\b\b\b\b\b\b\b\b\b\b\b\b\b\b\b\b\b\b\b\b\b\b\b\b\b\b\b\b\b                                \b\b\b\b\b\b\b\b\b\b\b\b\b\b\b\b\b\b\b\b\b\b\b\b\b\b\b\b\b\b\b\b  7% - yolov4-leaky_best.weights\b\b\b\b\b\b\b\b\b\b\b\b\b\b\b\b\b\b\b\b\b\b\b\b\b\b\b\b\b\b\b\b                                \b\b\b\b\b\b\b\b\b\b\b\b\b\b\b\b\b\b\b\b\b\b\b\b\b\b\b\b\b\b\b\b  9% - yolov4-leaky_best.weights\b\b\b\b\b\b\b\b\b\b\b\b\b\b\b\b\b\b\b\b\b\b\b\b\b\b\b\b\b\b\b\b                                \b\b\b\b\b\b\b\b\b\b\b\b\b\b\b\b\b\b\b\b\b\b\b\b\b\b\b\b\b\b\b\b 10% - yolov4-leaky_best.weights\b\b\b\b\b\b\b\b\b\b\b\b\b\b\b\b\b\b\b\b\b\b\b\b\b\b\b\b\b\b\b\b                                \b\b\b\b\b\b\b\b\b\b\b\b\b\b\b\b\b\b\b\b\b\b\b\b\b\b\b\b\b\b\b\b 12% - yolov4-leaky_best.weights\b\b\b\b\b\b\b\b\b\b\b\b\b\b\b\b\b\b\b\b\b\b\b\b\b\b\b\b\b\b\b\b                                \b\b\b\b\b\b\b\b\b\b\b\b\b\b\b\b\b\b\b\b\b\b\b\b\b\b\b\b\b\b\b\b 13% - yolov4-leaky_best.weights\b\b\b\b\b\b\b\b\b\b\b\b\b\b\b\b\b\b\b\b\b\b\b\b\b\b\b\b\b\b\b\b                                \b\b\b\b\b\b\b\b\b\b\b\b\b\b\b\b\b\b\b\b\b\b\b\b\b\b\b\b\b\b\b\b 14% - yolov4-leaky_best.weights\b\b\b\b\b\b\b\b\b\b\b\b\b\b\b\b\b\b\b\b\b\b\b\b\b\b\b\b\b\b\b\b                                \b\b\b\b\b\b\b\b\b\b\b\b\b\b\b\b\b\b\b\b\b\b\b\b\b\b\b\b\b\b\b\b 16% - yolov4-leaky_best.weights\b\b\b\b\b\b\b\b\b\b\b\b\b\b\b\b\b\b\b\b\b\b\b\b\b\b\b\b\b\b\b\b                                \b\b\b\b\b\b\b\b\b\b\b\b\b\b\b\b\b\b\b\b\b\b\b\b\b\b\b\b\b\b\b\b 17% - yolov4-leaky_best.weights\b\b\b\b\b\b\b\b\b\b\b\b\b\b\b\b\b\b\b\b\b\b\b\b\b\b\b\b\b\b\b\b                                \b\b\b\b\b\b\b\b\b\b\b\b\b\b\b\b\b\b\b\b\b\b\b\b\b\b\b\b\b\b\b\b 18% - yolov4-leaky_best.weights\b\b\b\b\b\b\b\b\b\b\b\b\b\b\b\b\b\b\b\b\b\b\b\b\b\b\b\b\b\b\b\b                                \b\b\b\b\b\b\b\b\b\b\b\b\b\b\b\b\b\b\b\b\b\b\b\b\b\b\b\b\b\b\b\b 20% - yolov4-leaky_best.weights\b\b\b\b\b\b\b\b\b\b\b\b\b\b\b\b\b\b\b\b\b\b\b\b\b\b\b\b\b\b\b\b                                \b\b\b\b\b\b\b\b\b\b\b\b\b\b\b\b\b\b\b\b\b\b\b\b\b\b\b\b\b\b\b\b 21% - yolov4-leaky_best.weights\b\b\b\b\b\b\b\b\b\b\b\b\b\b\b\b\b\b\b\b\b\b\b\b\b\b\b\b\b\b\b\b                                \b\b\b\b\b\b\b\b\b\b\b\b\b\b\b\b\b\b\b\b\b\b\b\b\b\b\b\b\b\b\b\b 23% - yolov4-leaky_best.weights\b\b\b\b\b\b\b\b\b\b\b\b\b\b\b\b\b\b\b\b\b\b\b\b\b\b\b\b\b\b\b\b                                \b\b\b\b\b\b\b\b\b\b\b\b\b\b\b\b\b\b\b\b\b\b\b\b\b\b\b\b\b\b\b\b 24% - yolov4-leaky_best.weights\b\b\b\b\b\b\b\b\b\b\b\b\b\b\b\b\b\b\b\b\b\b\b\b\b\b\b\b\b\b\b\b                                \b\b\b\b\b\b\b\b\b\b\b\b\b\b\b\b\b\b\b\b\b\b\b\b\b\b\b\b\b\b\b\b 25% - yolov4-leaky_best.weights\b\b\b\b\b\b\b\b\b\b\b\b\b\b\b\b\b\b\b\b\b\b\b\b\b\b\b\b\b\b\b\b                                \b\b\b\b\b\b\b\b\b\b\b\b\b\b\b\b\b\b\b\b\b\b\b\b\b\b\b\b\b\b\b\b 27% - yolov4-leaky_best.weights\b\b\b\b\b\b\b\b\b\b\b\b\b\b\b\b\b\b\b\b\b\b\b\b\b\b\b\b\b\b\b\b                                \b\b\b\b\b\b\b\b\b\b\b\b\b\b\b\b\b\b\b\b\b\b\b\b\b\b\b\b\b\b\b\b 28% - yolov4-leaky_best.weights\b\b\b\b\b\b\b\b\b\b\b\b\b\b\b\b\b\b\b\b\b\b\b\b\b\b\b\b\b\b\b\b                                \b\b\b\b\b\b\b\b\b\b\b\b\b\b\b\b\b\b\b\b\b\b\b\b\b\b\b\b\b\b\b\b 29% - yolov4-leaky_best.weights\b\b\b\b\b\b\b\b\b\b\b\b\b\b\b\b\b\b\b\b\b\b\b\b\b\b\b\b\b\b\b\b                                \b\b\b\b\b\b\b\b\b\b\b\b\b\b\b\b\b\b\b\b\b\b\b\b\b\b\b\b\b\b\b\b 31% - yolov4-leaky_best.weights\b\b\b\b\b\b\b\b\b\b\b\b\b\b\b\b\b\b\b\b\b\b\b\b\b\b\b\b\b\b\b\b                                \b\b\b\b\b\b\b\b\b\b\b\b\b\b\b\b\b\b\b\b\b\b\b\b\b\b\b\b\b\b\b\b 32% - yolov4-leaky_best.weights\b\b\b\b\b\b\b\b\b\b\b\b\b\b\b\b\b\b\b\b\b\b\b\b\b\b\b\b\b\b\b\b                                \b\b\b\b\b\b\b\b\b\b\b\b\b\b\b\b\b\b\b\b\b\b\b\b\b\b\b\b\b\b\b\b 34% - yolov4-leaky_best.weights\b\b\b\b\b\b\b\b\b\b\b\b\b\b\b\b\b\b\b\b\b\b\b\b\b\b\b\b\b\b\b\b                                \b\b\b\b\b\b\b\b\b\b\b\b\b\b\b\b\b\b\b\b\b\b\b\b\b\b\b\b\b\b\b\b 35% - yolov4-leaky_best.weights\b\b\b\b\b\b\b\b\b\b\b\b\b\b\b\b\b\b\b\b\b\b\b\b\b\b\b\b\b\b\b\b                                \b\b\b\b\b\b\b\b\b\b\b\b\b\b\b\b\b\b\b\b\b\b\b\b\b\b\b\b\b\b\b\b 36% - yolov4-leaky_best.weights\b\b\b\b\b\b\b\b\b\b\b\b\b\b\b\b\b\b\b\b\b\b\b\b\b\b\b\b\b\b\b\b                                \b\b\b\b\b\b\b\b\b\b\b\b\b\b\b\b\b\b\b\b\b\b\b\b\b\b\b\b\b\b\b\b 38% - yolov4-leaky_best.weights\b\b\b\b\b\b\b\b\b\b\b\b\b\b\b\b\b\b\b\b\b\b\b\b\b\b\b\b\b\b\b\b                                \b\b\b\b\b\b\b\b\b\b\b\b\b\b\b\b\b\b\b\b\b\b\b\b\b\b\b\b\b\b\b\b 39% - yolov4-leaky_best.weights\b\b\b\b\b\b\b\b\b\b\b\b\b\b\b\b\b\b\b\b\b\b\b\b\b\b\b\b\b\b\b\b                                \b\b\b\b\b\b\b\b\b\b\b\b\b\b\b\b\b\b\b\b\b\b\b\b\b\b\b\b\b\b\b\b 40% - yolov4-leaky_best.weights\b\b\b\b\b\b\b\b\b\b\b\b\b\b\b\b\b\b\b\b\b\b\b\b\b\b\b\b\b\b\b\b                                \b\b\b\b\b\b\b\b\b\b\b\b\b\b\b\b\b\b\b\b\b\b\b\b\b\b\b\b\b\b\b\b 42% - yolov4-leaky_best.weights\b\b\b\b\b\b\b\b\b\b\b\b\b\b\b\b\b\b\b\b\b\b\b\b\b\b\b\b\b\b\b\b                                \b\b\b\b\b\b\b\b\b\b\b\b\b\b\b\b\b\b\b\b\b\b\b\b\b\b\b\b\b\b\b\b 43% - yolov4-leaky_best.weights\b\b\b\b\b\b\b\b\b\b\b\b\b\b\b\b\b\b\b\b\b\b\b\b\b\b\b\b\b\b\b\b                                \b\b\b\b\b\b\b\b\b\b\b\b\b\b\b\b\b\b\b\b\b\b\b\b\b\b\b\b\b\b\b\b 45% - yolov4-leaky_best.weights\b\b\b\b\b\b\b\b\b\b\b\b\b\b\b\b\b\b\b\b\b\b\b\b\b\b\b\b\b\b\b\b                                \b\b\b\b\b\b\b\b\b\b\b\b\b\b\b\b\b\b\b\b\b\b\b\b\b\b\b\b\b\b\b\b 46% - yolov4-leaky_best.weights\b\b\b\b\b\b\b\b\b\b\b\b\b\b\b\b\b\b\b\b\b\b\b\b\b\b\b\b\b\b\b\b                                \b\b\b\b\b\b\b\b\b\b\b\b\b\b\b\b\b\b\b\b\b\b\b\b\b\b\b\b\b\b\b\b 47% - yolov4-leaky_best.weights\b\b\b\b\b\b\b\b\b\b\b\b\b\b\b\b\b\b\b\b\b\b\b\b\b\b\b\b\b\b\b\b                                \b\b\b\b\b\b\b\b\b\b\b\b\b\b\b\b\b\b\b\b\b\b\b\b\b\b\b\b\b\b\b\b 49% - yolov4-leaky_best.weights\b\b\b\b\b\b\b\b\b\b\b\b\b\b\b\b\b\b\b\b\b\b\b\b\b\b\b\b\b\b\b\b                                \b\b\b\b\b\b\b\b\b\b\b\b\b\b\b\b\b\b\b\b\b\b\b\b\b\b\b\b\b\b\b\b 50% - yolov4-leaky_best.weights\b\b\b\b\b\b\b\b\b\b\b\b\b\b\b\b\b\b\b\b\b\b\b\b\b\b\b\b\b\b\b\b                                \b\b\b\b\b\b\b\b\b\b\b\b\b\b\b\b\b\b\b\b\b\b\b\b\b\b\b\b\b\b\b\b 51% - yolov4-leaky_best.weights\b\b\b\b\b\b\b\b\b\b\b\b\b\b\b\b\b\b\b\b\b\b\b\b\b\b\b\b\b\b\b\b                                \b\b\b\b\b\b\b\b\b\b\b\b\b\b\b\b\b\b\b\b\b\b\b\b\b\b\b\b\b\b\b\b 53% - yolov4-leaky_best.weights\b\b\b\b\b\b\b\b\b\b\b\b\b\b\b\b\b\b\b\b\b\b\b\b\b\b\b\b\b\b\b\b                                \b\b\b\b\b\b\b\b\b\b\b\b\b\b\b\b\b\b\b\b\b\b\b\b\b\b\b\b\b\b\b\b 54% - yolov4-leaky_best.weights\b\b\b\b\b\b\b\b\b\b\b\b\b\b\b\b\b\b\b\b\b\b\b\b\b\b\b\b\b\b\b\b                                \b\b\b\b\b\b\b\b\b\b\b\b\b\b\b\b\b\b\b\b\b\b\b\b\b\b\b\b\b\b\b\b 56% - yolov4-leaky_best.weights\b\b\b\b\b\b\b\b\b\b\b\b\b\b\b\b\b\b\b\b\b\b\b\b\b\b\b\b\b\b\b\b                                \b\b\b\b\b\b\b\b\b\b\b\b\b\b\b\b\b\b\b\b\b\b\b\b\b\b\b\b\b\b\b\b 57% - yolov4-leaky_best.weights\b\b\b\b\b\b\b\b\b\b\b\b\b\b\b\b\b\b\b\b\b\b\b\b\b\b\b\b\b\b\b\b                                \b\b\b\b\b\b\b\b\b\b\b\b\b\b\b\b\b\b\b\b\b\b\b\b\b\b\b\b\b\b\b\b 58% - yolov4-leaky_best.weights\b\b\b\b\b\b\b\b\b\b\b\b\b\b\b\b\b\b\b\b\b\b\b\b\b\b\b\b\b\b\b\b                                \b\b\b\b\b\b\b\b\b\b\b\b\b\b\b\b\b\b\b\b\b\b\b\b\b\b\b\b\b\b\b\b 60% - yolov4-leaky_best.weights\b\b\b\b\b\b\b\b\b\b\b\b\b\b\b\b\b\b\b\b\b\b\b\b\b\b\b\b\b\b\b\b                                \b\b\b\b\b\b\b\b\b\b\b\b\b\b\b\b\b\b\b\b\b\b\b\b\b\b\b\b\b\b\b\b 61% - yolov4-leaky_best.weights\b\b\b\b\b\b\b\b\b\b\b\b\b\b\b\b\b\b\b\b\b\b\b\b\b\b\b\b\b\b\b\b                                \b\b\b\b\b\b\b\b\b\b\b\b\b\b\b\b\b\b\b\b\b\b\b\b\b\b\b\b\b\b\b\b 62% - yolov4-leaky_best.weights\b\b\b\b\b\b\b\b\b\b\b\b\b\b\b\b\b\b\b\b\b\b\b\b\b\b\b\b\b\b\b\b                                \b\b\b\b\b\b\b\b\b\b\b\b\b\b\b\b\b\b\b\b\b\b\b\b\b\b\b\b\b\b\b\b 64% - yolov4-leaky_best.weights\b\b\b\b\b\b\b\b\b\b\b\b\b\b\b\b\b\b\b\b\b\b\b\b\b\b\b\b\b\b\b\b                                \b\b\b\b\b\b\b\b\b\b\b\b\b\b\b\b\b\b\b\b\b\b\b\b\b\b\b\b\b\b\b\b 65% - yolov4-leaky_best.weights\b\b\b\b\b\b\b\b\b\b\b\b\b\b\b\b\b\b\b\b\b\b\b\b\b\b\b\b\b\b\b\b                                \b\b\b\b\b\b\b\b\b\b\b\b\b\b\b\b\b\b\b\b\b\b\b\b\b\b\b\b\b\b\b\b 67% - yolov4-leaky_best.weights\b\b\b\b\b\b\b\b\b\b\b\b\b\b\b\b\b\b\b\b\b\b\b\b\b\b\b\b\b\b\b\b                                \b\b\b\b\b\b\b\b\b\b\b\b\b\b\b\b\b\b\b\b\b\b\b\b\b\b\b\b\b\b\b\b 68% - yolov4-leaky_best.weights\b\b\b\b\b\b\b\b\b\b\b\b\b\b\b\b\b\b\b\b\b\b\b\b\b\b\b\b\b\b\b\b                                \b\b\b\b\b\b\b\b\b\b\b\b\b\b\b\b\b\b\b\b\b\b\b\b\b\b\b\b\b\b\b\b 69% - yolov4-leaky_best.weights\b\b\b\b\b\b\b\b\b\b\b\b\b\b\b\b\b\b\b\b\b\b\b\b\b\b\b\b\b\b\b\b                                \b\b\b\b\b\b\b\b\b\b\b\b\b\b\b\b\b\b\b\b\b\b\b\b\b\b\b\b\b\b\b\b 71% - yolov4-leaky_best.weights\b\b\b\b\b\b\b\b\b\b\b\b\b\b\b\b\b\b\b\b\b\b\b\b\b\b\b\b\b\b\b\b                                \b\b\b\b\b\b\b\b\b\b\b\b\b\b\b\b\b\b\b\b\b\b\b\b\b\b\b\b\b\b\b\b 72% - yolov4-leaky_best.weights\b\b\b\b\b\b\b\b\b\b\b\b\b\b\b\b\b\b\b\b\b\b\b\b\b\b\b\b\b\b\b\b                                \b\b\b\b\b\b\b\b\b\b\b\b\b\b\b\b\b\b\b\b\b\b\b\b\b\b\b\b\b\b\b\b 73% - yolov4-leaky_best.weights\b\b\b\b\b\b\b\b\b\b\b\b\b\b\b\b\b\b\b\b\b\b\b\b\b\b\b\b\b\b\b\b                                \b\b\b\b\b\b\b\b\b\b\b\b\b\b\b\b\b\b\b\b\b\b\b\b\b\b\b\b\b\b\b\b 75% - yolov4-leaky_best.weights\b\b\b\b\b\b\b\b\b\b\b\b\b\b\b\b\b\b\b\b\b\b\b\b\b\b\b\b\b\b\b\b                                \b\b\b\b\b\b\b\b\b\b\b\b\b\b\b\b\b\b\b\b\b\b\b\b\b\b\b\b\b\b\b\b 76% - yolov4-leaky_best.weights\b\b\b\b\b\b\b\b\b\b\b\b\b\b\b\b\b\b\b\b\b\b\b\b\b\b\b\b\b\b\b\b                                \b\b\b\b\b\b\b\b\b\b\b\b\b\b\b\b\b\b\b\b\b\b\b\b\b\b\b\b\b\b\b\b 78% - yolov4-leaky_best.weights\b\b\b\b\b\b\b\b\b\b\b\b\b\b\b\b\b\b\b\b\b\b\b\b\b\b\b\b\b\b\b\b                                \b\b\b\b\b\b\b\b\b\b\b\b\b\b\b\b\b\b\b\b\b\b\b\b\b\b\b\b\b\b\b\b 79% - yolov4-leaky_best.weights\b\b\b\b\b\b\b\b\b\b\b\b\b\b\b\b\b\b\b\b\b\b\b\b\b\b\b\b\b\b\b\b                                \b\b\b\b\b\b\b\b\b\b\b\b\b\b\b\b\b\b\b\b\b\b\b\b\b\b\b\b\b\b\b\b 80% - yolov4-leaky_best.weights\b\b\b\b\b\b\b\b\b\b\b\b\b\b\b\b\b\b\b\b\b\b\b\b\b\b\b\b\b\b\b\b                                \b\b\b\b\b\b\b\b\b\b\b\b\b\b\b\b\b\b\b\b\b\b\b\b\b\b\b\b\b\b\b\b 82% - yolov4-leaky_best.weights\b\b\b\b\b\b\b\b\b\b\b\b\b\b\b\b\b\b\b\b\b\b\b\b\b\b\b\b\b\b\b\b                                \b\b\b\b\b\b\b\b\b\b\b\b\b\b\b\b\b\b\b\b\b\b\b\b\b\b\b\b\b\b\b\b 83% - yolov4-leaky_best.weights\b\b\b\b\b\b\b\b\b\b\b\b\b\b\b\b\b\b\b\b\b\b\b\b\b\b\b\b\b\b\b\b                                \b\b\b\b\b\b\b\b\b\b\b\b\b\b\b\b\b\b\b\b\b\b\b\b\b\b\b\b\b\b\b\b 84% - yolov4-leaky_best.weights\b\b\b\b\b\b\b\b\b\b\b\b\b\b\b\b\b\b\b\b\b\b\b\b\b\b\b\b\b\b\b\b                                \b\b\b\b\b\b\b\b\b\b\b\b\b\b\b\b\b\b\b\b\b\b\b\b\b\b\b\b\b\b\b\b 86% - yolov4-leaky_best.weights\b\b\b\b\b\b\b\b\b\b\b\b\b\b\b\b\b\b\b\b\b\b\b\b\b\b\b\b\b\b\b\b                                \b\b\b\b\b\b\b\b\b\b\b\b\b\b\b\b\b\b\b\b\b\b\b\b\b\b\b\b\b\b\b\b 87% - yolov4-leaky_best.weights\b\b\b\b\b\b\b\b\b\b\b\b\b\b\b\b\b\b\b\b\b\b\b\b\b\b\b\b\b\b\b\b                                \b\b\b\b\b\b\b\b\b\b\b\b\b\b\b\b\b\b\b\b\b\b\b\b\b\b\b\b\b\b\b\b 89% - yolov4-leaky_best.weights\b\b\b\b\b\b\b\b\b\b\b\b\b\b\b\b\b\b\b\b\b\b\b\b\b\b\b\b\b\b\b\b                                \b\b\b\b\b\b\b\b\b\b\b\b\b\b\b\b\b\b\b\b\b\b\b\b\b\b\b\b\b\b\b\b 90% - yolov4-leaky_best.weights\b\b\b\b\b\b\b\b\b\b\b\b\b\b\b\b\b\b\b\b\b\b\b\b\b\b\b\b\b\b\b\b                                \b\b\b\b\b\b\b\b\b\b\b\b\b\b\b\b\b\b\b\b\b\b\b\b\b\b\b\b\b\b\b\b 91% - yolov4-leaky_best.weights\b\b\b\b\b\b\b\b\b\b\b\b\b\b\b\b\b\b\b\b\b\b\b\b\b\b\b\b\b\b\b\b                                \b\b\b\b\b\b\b\b\b\b\b\b\b\b\b\b\b\b\b\b\b\b\b\b\b\b\b\b\b\b\b\b 93% - yolov4-leaky_best.weights\b\b\b\b\b\b\b\b\b\b\b\b\b\b\b\b\b\b\b\b\b\b\b\b\b\b\b\b\b\b\b\b                                \b\b\b\b\b\b\b\b\b\b\b\b\b\b\b\b\b\b\b\b\b\b\b\b\b\b\b\b\b\b\b\b 94% - yolov4-leaky_best.weights\b\b\b\b\b\b\b\b\b\b\b\b\b\b\b\b\b\b\b\b\b\b\b\b\b\b\b\b\b\b\b\b                                \b\b\b\b\b\b\b\b\b\b\b\b\b\b\b\b\b\b\b\b\b\b\b\b\b\b\b\b\b\b\b\b 95% - yolov4-leaky_best.weights\b\b\b\b\b\b\b\b\b\b\b\b\b\b\b\b\b\b\b\b\b\b\b\b\b\b\b\b\b\b\b\b                                \b\b\b\b\b\b\b\b\b\b\b\b\b\b\b\b\b\b\b\b\b\b\b\b\b\b\b\b\b\b\b\b 97% - yolov4-leaky_best.weights\b\b\b\b\b\b\b\b\b\b\b\b\b\b\b\b\b\b\b\b\b\b\b\b\b\b\b\b\b\b\b\b                                \b\b\b\b\b\b\b\b\b\b\b\b\b\b\b\b\b\b\b\b\b\b\b\b\b\b\b\b\b\b\b\b 98% - yolov4-leaky_best.weights\b\b\b\b\b\b\b\b\b\b\b\b\b\b\b\b\b\b\b\b\b\b\b\b\b\b\b\b\b\b\b\b                                \b\b\b\b\b\b\b\b\b\b\b\b\b\b\b\b\b\b\b\b\b\b\b\b\b\b\b\b\b\b\b\b 99% - yolov4-leaky_best.weights\b\b\b\b\b\b\b\b\b\b\b\b\b\b\b\b\b\b\b\b\b\b\b\b\b\b\b\b\b\b\b\b                                \b\b\b\b\b\b\b\b\b\b\b\b\b\b\b\b\b\b\b\b\b\b\b\b\b\b\b\b\b\b\b\bEverything is Ok\n",
      "\n",
      "Size:       257717640\n",
      "Compressed: 234427775\n"
     ]
    }
   ],
   "source": [
    "#！sudo apt install p7zip-full\n",
    "! pwd\n",
    "%cd ../dk_model\n",
    "!7z x yolov4-leaky_best.weights.7z.001"
   ]
  },
  {
   "cell_type": "markdown",
   "metadata": {
    "id": "94rKAaMmrHvm"
   },
   "source": [
    "## Change the labels in obj.names to our current labels\n",
    "Or you can directly use or upload my obj.names "
   ]
  },
  {
   "cell_type": "code",
   "execution_count": null,
   "metadata": {
    "colab": {
     "base_uri": "https://localhost:8080/",
     "height": 53
    },
    "id": "XbtL6iM0rRtf",
    "outputId": "d83ae9d1-d702-4d2a-99f6-858ab59c5cba"
   },
   "outputs": [
    {
     "name": "stdout",
     "output_type": "stream",
     "text": [
      "mask\n",
      "no mask"
     ]
    }
   ],
   "source": [
    "labels_path = '/content/yolotinyv3_medmask_demo/obj.names'\n",
    "#make a list of your labels\n",
    "labels = ['ace','jack','king','nine','queen','ten']\n",
    "\n",
    "\n",
    "with open(labels_path, 'w') as f:\n",
    "\n",
    "    f.write('\\n'.join(labels))\n",
    "\n",
    "#check that the labels file is correct\n",
    "!cat /content/yolotinyv3_medmask_demo/obj.names"
   ]
  },
  {
   "cell_type": "markdown",
   "metadata": {
    "id": "QmsQt5L5uETj"
   },
   "source": [
    "## Change the number of classes in obj.data.\n",
    "The paths are relative so no change there as long as the folder/file structure/names are not changed."
   ]
  },
  {
   "cell_type": "code",
   "execution_count": null,
   "metadata": {
    "colab": {
     "base_uri": "https://localhost:8080/",
     "height": 108
    },
    "id": "JufYpzjtuSAC",
    "outputId": "697a5468-3212-44dd-f8d8-3575bc7d58d5"
   },
   "outputs": [
    {
     "name": "stdout",
     "output_type": "stream",
     "text": [
      "classes= 2\n",
      "train  = /content/yolotinyv3_medmask_demo/train.txt\n",
      "valid  = /content/yolotinyv3_medmask_demo/test.txt\n",
      "names = /content/yolotinyv3_medmask_demo/obj.names\n",
      "backup = backup/"
     ]
    }
   ],
   "source": [
    "import re\n",
    "objdata = '/content/yolotinyv3_medmask_demo/obj.data'\n",
    "with open(objdata) as f:\n",
    "    s = f.read()\n",
    "\n",
    "#the number of classes is equal to the number of labels\n",
    "num_classes = len(labels)   \n",
    "s = re.sub('classes = \\d*','classes = ' + str(num_classes),s)\n",
    "\n",
    "with open(objdata, 'w') as f:\n",
    "  f.write(s)\n",
    "!cat /content/yolotinyv3_medmask_demo/obj.data"
   ]
  },
  {
   "cell_type": "markdown",
   "metadata": {
    "id": "v6sn7OICvAxh"
   },
   "source": [
    "## Now we need to create a train.txt and test.txt file for our images from `obj` folder.\n",
    "We will use a script that splits the images based on a specified percentage \n",
    "and writes them in train.txt and test.txt files."
   ]
  },
  {
   "cell_type": "code",
   "execution_count": null,
   "metadata": {
    "colab": {
     "base_uri": "https://localhost:8080/",
     "height": 35
    },
    "id": "VawPd372BZ_a",
    "outputId": "fd795042-f7a2-47cd-f6cd-487bd2f01d7e"
   },
   "outputs": [
    {
     "name": "stdout",
     "output_type": "stream",
     "text": [
      "/content/yolotinyv3_medmask_demo\n"
     ]
    }
   ],
   "source": [
    "%cd ../yolotinyv3_medmask_demo/"
   ]
  },
  {
   "cell_type": "code",
   "execution_count": null,
   "metadata": {
    "colab": {
     "base_uri": "https://localhost:8080/",
     "height": 90
    },
    "id": "gZM0V1011qF7",
    "outputId": "7a077b76-3923-43cd-95a6-fe4cf1e02ba5"
   },
   "outputs": [
    {
     "name": "stdout",
     "output_type": "stream",
     "text": [
      "Your image file extension is: .jpg\n",
      "Number of images: 762\n",
      "Number of images used for training 724\n",
      "Number of images used for testing 38\n"
     ]
    }
   ],
   "source": [
    "#in this case we use 6 percent as the number of images for testing.\n",
    "#double clicking on the train or test text files will open the file in a new\n",
    "#tab in colab and display the content.\n",
    "!python3 folder2textYolo.py 5 /content/yolotinyv3_medmask_demo/obj"
   ]
  },
  {
   "cell_type": "markdown",
   "metadata": {
    "id": "ukAx4g40KZrh"
   },
   "source": [
    "## Last thing we need to change is the yolov4-leaky_obj.cfg file.\n",
    "There are several parameters of importance here. They control various aspects of the training process. Let's print the first few lines and have a look\n"
   ]
  },
  {
   "cell_type": "code",
   "execution_count": null,
   "metadata": {
    "colab": {
     "base_uri": "https://localhost:8080/",
     "height": 453
    },
    "id": "VhilmLuwKyLN",
    "outputId": "de7fabf9-4c95-4505-8e1d-f836212af99a"
   },
   "outputs": [
    {
     "name": "stdout",
     "output_type": "stream",
     "text": [
      "[net]\n",
      "# Testing\n",
      "#batch=1\n",
      "#subdivisions=1\n",
      "# Training\n",
      "batch=64\n",
      "subdivisions=16\n",
      "width=416\n",
      "height=416\n",
      "channels=3\n",
      "momentum=0.9\n",
      "decay=0.0005\n",
      "angle=0\n",
      "saturation = 1.5\n",
      "exposure = 1.5\n",
      "hue=.1\n",
      "\n",
      "learning_rate=0.001\n",
      "burn_in=1000\n",
      "max_batches = 4000\n",
      "policy=steps\n",
      "steps=3200,3600\n",
      "scales=.1,.1\n",
      "\n"
     ]
    }
   ],
   "source": [
    "!head -n 24 /content/yolotinyv3_medmask_demo/yolov4-leaky_obj.cfg \n"
   ]
  },
  {
   "cell_type": "markdown",
   "metadata": {
    "id": "9s5IKRC_LlCI"
   },
   "source": [
    "### Let's go over the parameters above:\n",
    "* The batch parameter dictates the batch size. That one generally remains at 64.\n",
    "* The subdivisions dictates how many images are loaded into memory. A smaller number translates to faster training. We will use 12. If a CUDA out of memory error is triggered, the subdivisions should be increased to i.e. 16,24,32 or some other number. (64 is max) Unless training with a resolution higher than 416, there should be no problem with 12.\n",
    "* The width and height are by default at 416. Another resolution one can try is 320, or 608.\n",
    "* The next parameter we care about is max_batches. This determines how long the training process is. Its value should be at least around 2000 for every class used. So for 3 classes, at least 6000.\n",
    "* The steps are calculated as a function of max_batches. The first value is 0.8 * max_batches and the second value 0.9 * max_batches. In this case it is 8000 * 0.8 and 8000 * 0.9. \n",
    "\n",
    "For more details about Yolo parameters have a look here:\n",
    "https://github.com/AlexeyAB/darknet#how-to-train-to-detect-your-custom-objects\n",
    "There is a lot of material here, so make sure you scroll through if you have questions. Pretty much everything is well explained.\n",
    "\n",
    "\n"
   ]
  },
  {
   "cell_type": "markdown",
   "metadata": {
    "id": "zq6MLtxbOkML"
   },
   "source": [
    "### Now that we see which parameters are of importance, let's modify them according to our dataset."
   ]
  },
  {
   "cell_type": "code",
   "execution_count": null,
   "metadata": {
    "id": "NP5BpLDdOq7Y"
   },
   "outputs": [],
   "source": [
    "# set the number of max_batches - min 2000 per class:\n",
    "max_batch=4000\n",
    "# calculate the 2 steps values:\n",
    "step1 = 0.8 * max_batch\n",
    "step2 = 0.9 * max_batch\n",
    "\n",
    "# we also need to adjust the number of classes and a parameter called filter size \n",
    "# that are both is inside the model structure\n",
    "\n",
    "# num_classes = len(labels)\n",
    "num_filters = (num_classes + 5) * 3\n",
    "\n",
    "\n",
    "cfg_file = '/content/yolotinyv3_medmask_demo/yolov4-leaky_obj.cfg'\n",
    "# cfg_file = '/content/yolotinyv3_medmask_demo/yolov4-tiny.cfg'\n",
    "\n",
    "with open(cfg_file) as f:\n",
    "    s = f.read()\n",
    "# (re.sub('[a-z]*@', 'ABC@', s))\n",
    "s = re.sub('max_batches = \\d*','max_batches = '+str(max_batch),s)\n",
    "s = re.sub('steps=\\d*,\\d*','steps='+\"{:.0f}\".format(step1)+','+\"{:.0f}\".format(step2),s)\n",
    "s = re.sub('classes=\\d*','classes='+str(num_classes),s)\n",
    "s = re.sub('pad=1\\nfilters=\\d*','pad=1\\nfilters='+\"{:.0f}\".format(num_filters),s)\n",
    "# pad=1\\nfilters=\\d\\d\n",
    "# s = re.sub('CUDNN=0','CUDNN=1',s)\n",
    "# s = re.sub('OPENCV=0','OPENCV=1',s)\n",
    "\n",
    "with open(cfg_file, 'w') as f:\n",
    "  # s = re.sub('GPU=0','GPU=1',s)\n",
    "  f.write(s)\n",
    "\n"
   ]
  },
  {
   "cell_type": "markdown",
   "metadata": {
    "id": "V97ckmh1OYMn"
   },
   "source": [
    "Let's look again at the configuration "
   ]
  },
  {
   "cell_type": "code",
   "execution_count": null,
   "metadata": {
    "colab": {
     "base_uri": "https://localhost:8080/",
     "height": 453
    },
    "id": "YQYhB3N9dHgm",
    "outputId": "0956c95e-7072-4b0f-f10c-901b5ddf0004"
   },
   "outputs": [
    {
     "name": "stdout",
     "output_type": "stream",
     "text": [
      "[net]\n",
      "# Testing\n",
      "#batch=1\n",
      "#subdivisions=1\n",
      "# Training\n",
      "batch=64\n",
      "subdivisions=16\n",
      "width=416\n",
      "height=416\n",
      "channels=3\n",
      "momentum=0.9\n",
      "decay=0.0005\n",
      "angle=0\n",
      "saturation = 1.5\n",
      "exposure = 1.5\n",
      "hue=.1\n",
      "\n",
      "learning_rate=0.001\n",
      "burn_in=1000\n",
      "max_batches = 4000\n",
      "policy=steps\n",
      "steps=3200,3600\n",
      "scales=.1,.1\n",
      "\n"
     ]
    }
   ],
   "source": [
    "!head -n 24 /content/yolotinyv3_medmask_demo/yolov4-leaky_obj.cfg \n"
   ]
  },
  {
   "cell_type": "markdown",
   "metadata": {
    "id": "gorENDyZOhus"
   },
   "source": [
    "We also check if the number of classes and filters updated correctly"
   ]
  },
  {
   "cell_type": "code",
   "execution_count": null,
   "metadata": {
    "colab": {
     "base_uri": "https://localhost:8080/",
     "height": 1000
    },
    "id": "4vNWG-Tfcmn3",
    "outputId": "321ecb9f-7d33-4f45-c394-59b3aec7b7bf"
   },
   "outputs": [
    {
     "name": "stdout",
     "output_type": "stream",
     "text": [
      "stride=1\n",
      "pad=1\n",
      "activation=leaky\n",
      "\n",
      "[convolutional]\n",
      "size=1\n",
      "stride=1\n",
      "pad=1\n",
      "filters=21\n",
      "activation=linear\n",
      "\n",
      "\n",
      "\n",
      "[yolo]\n",
      "mask = 3,4,5\n",
      "anchors = 10,14,  23,27,  37,58,  81,82,  135,169,  344,319\n",
      "classes=2\n",
      "num=6\n",
      "jitter=.3\n",
      "ignore_thresh = .7\n",
      "truth_thresh = 1\n",
      "random=1\n",
      "\n",
      "[route]\n",
      "layers = -4\n",
      "\n",
      "[convolutional]\n",
      "batch_normalize=1\n",
      "filters=128\n",
      "size=1\n",
      "stride=1\n",
      "pad=1\n",
      "activation=leaky\n",
      "\n",
      "[upsample]\n",
      "stride=2\n",
      "\n",
      "[route]\n",
      "layers = -1, 8\n",
      "\n",
      "[convolutional]\n",
      "batch_normalize=1\n",
      "filters=256\n",
      "size=3\n",
      "stride=1\n",
      "pad=1\n",
      "activation=leaky\n",
      "\n",
      "[convolutional]\n",
      "size=1\n",
      "stride=1\n",
      "pad=1\n",
      "filters=21\n",
      "activation=linear\n",
      "\n",
      "[yolo]\n",
      "mask = 1,2,3\n",
      "anchors = 10,14,  23,27,  37,58,  81,82,  135,169,  344,319\n",
      "classes=2\n",
      "num=6\n",
      "jitter=.3\n",
      "ignore_thresh = .7\n",
      "truth_thresh = 1\n",
      "random=1\n"
     ]
    }
   ],
   "source": [
    "!tail -n 64 /content/yolotinyv3_medmask_demo/yolov4-leaky_obj.cfg \n"
   ]
  },
  {
   "cell_type": "markdown",
   "metadata": {
    "id": "6_4747QHIGZ7"
   },
   "source": [
    "# Train the model\n",
    "\n",
    "When you execute the following command, your model will start training.\n",
    "\n",
    "You will have a log line per epoch. On each iteration you will see how your training is going.\n",
    "\n",
    "In the `content/darknet/backup/` folder Darknet saves a few weights files:\n",
    "* files that end in 1000,2000 etc are weights saved every 1000 batches\n",
    "* best weights file are the weights that gave best results during training\n",
    "* final weights file contains the final weights at the end of the training\n",
    "\n",
    "\n",
    "\n"
   ]
  },
  {
   "cell_type": "markdown",
   "metadata": {
    "id": "CUaW_i1UL0Pp"
   },
   "source": [
    "## Start the model training"
   ]
  },
  {
   "cell_type": "code",
   "execution_count": 26,
   "metadata": {
    "colab": {
     "base_uri": "https://localhost:8080/"
    },
    "id": "tdt4WtP9kpm8",
    "outputId": "73171371-0ba5-4350-ce9b-d0fdbdaf0ee6"
   },
   "outputs": [
    {
     "name": "stdout",
     "output_type": "stream",
     "text": [
      "/content/kids-math-study-ai-mate-on-ultra96v2/dk_model\n",
      "/content/kids-math-study-ai-mate-on-ultra96v2/dk_files\n"
     ]
    }
   ],
   "source": [
    "!pwd\n",
    "%cd ../dk_files"
   ]
  },
  {
   "cell_type": "code",
   "execution_count": 30,
   "metadata": {
    "colab": {
     "base_uri": "https://localhost:8080/"
    },
    "id": "A_RVNMRPisVX",
    "outputId": "300c053d-7c53-4991-e52d-18f6f6741ff7"
   },
   "outputs": [
    {
     "name": "stdout",
     "output_type": "stream",
     "text": [
      " CUDA-version: 10010 (10010), cuDNN: 7.6.5, GPU count: 1  \n",
      " OpenCV version: 3.2.0\n",
      " Prepare additional network for mAP calculation...\n",
      " 0 : compute_capability = 610, cudnn_half = 0, GPU: Tesla P4 \n",
      "net.optimized_memory = 0 \n",
      "mini_batch = 1, batch = 8, time_steps = 1, train = 0 \n",
      "   layer   filters  size/strd(dil)      input                output\n",
      "   0 conv     32       3 x 3/ 1    512 x 512 x   3 ->  512 x 512 x  32 0.453 BF\n",
      "   1 conv     64       3 x 3/ 2    512 x 512 x  32 ->  256 x 256 x  64 2.416 BF\n",
      "   2 conv     64       1 x 1/ 1    256 x 256 x  64 ->  256 x 256 x  64 0.537 BF\n",
      "   3 route  1 \t\t                           ->  256 x 256 x  64 \n",
      "   4 conv     64       1 x 1/ 1    256 x 256 x  64 ->  256 x 256 x  64 0.537 BF\n",
      "   5 conv     32       1 x 1/ 1    256 x 256 x  64 ->  256 x 256 x  32 0.268 BF\n",
      "   6 conv     64       3 x 3/ 1    256 x 256 x  32 ->  256 x 256 x  64 2.416 BF\n",
      "   7 Shortcut Layer: 4,  wt = 0, wn = 0, outputs: 256 x 256 x  64 0.004 BF\n",
      "   8 conv     64       1 x 1/ 1    256 x 256 x  64 ->  256 x 256 x  64 0.537 BF\n",
      "   9 route  8 2 \t                           ->  256 x 256 x 128 \n",
      "  10 conv     64       1 x 1/ 1    256 x 256 x 128 ->  256 x 256 x  64 1.074 BF\n",
      "  11 conv    128       3 x 3/ 2    256 x 256 x  64 ->  128 x 128 x 128 2.416 BF\n",
      "  12 conv     64       1 x 1/ 1    128 x 128 x 128 ->  128 x 128 x  64 0.268 BF\n",
      "  13 route  11 \t\t                           ->  128 x 128 x 128 \n",
      "  14 conv     64       1 x 1/ 1    128 x 128 x 128 ->  128 x 128 x  64 0.268 BF\n",
      "  15 conv     64       1 x 1/ 1    128 x 128 x  64 ->  128 x 128 x  64 0.134 BF\n",
      "  16 conv     64       3 x 3/ 1    128 x 128 x  64 ->  128 x 128 x  64 1.208 BF\n",
      "  17 Shortcut Layer: 14,  wt = 0, wn = 0, outputs: 128 x 128 x  64 0.001 BF\n",
      "  18 conv     64       1 x 1/ 1    128 x 128 x  64 ->  128 x 128 x  64 0.134 BF\n",
      "  19 conv     64       3 x 3/ 1    128 x 128 x  64 ->  128 x 128 x  64 1.208 BF\n",
      "  20 Shortcut Layer: 17,  wt = 0, wn = 0, outputs: 128 x 128 x  64 0.001 BF\n",
      "  21 conv     64       1 x 1/ 1    128 x 128 x  64 ->  128 x 128 x  64 0.134 BF\n",
      "  22 route  21 12 \t                           ->  128 x 128 x 128 \n",
      "  23 conv    128       1 x 1/ 1    128 x 128 x 128 ->  128 x 128 x 128 0.537 BF\n",
      "  24 conv    256       3 x 3/ 2    128 x 128 x 128 ->   64 x  64 x 256 2.416 BF\n",
      "  25 conv    128       1 x 1/ 1     64 x  64 x 256 ->   64 x  64 x 128 0.268 BF\n",
      "  26 route  24 \t\t                           ->   64 x  64 x 256 \n",
      "  27 conv    128       1 x 1/ 1     64 x  64 x 256 ->   64 x  64 x 128 0.268 BF\n",
      "  28 conv    128       1 x 1/ 1     64 x  64 x 128 ->   64 x  64 x 128 0.134 BF\n",
      "  29 conv    128       3 x 3/ 1     64 x  64 x 128 ->   64 x  64 x 128 1.208 BF\n",
      "  30 Shortcut Layer: 27,  wt = 0, wn = 0, outputs:  64 x  64 x 128 0.001 BF\n",
      "  31 conv    128       1 x 1/ 1     64 x  64 x 128 ->   64 x  64 x 128 0.134 BF\n",
      "  32 conv    128       3 x 3/ 1     64 x  64 x 128 ->   64 x  64 x 128 1.208 BF\n",
      "  33 Shortcut Layer: 30,  wt = 0, wn = 0, outputs:  64 x  64 x 128 0.001 BF\n",
      "  34 conv    128       1 x 1/ 1     64 x  64 x 128 ->   64 x  64 x 128 0.134 BF\n",
      "  35 conv    128       3 x 3/ 1     64 x  64 x 128 ->   64 x  64 x 128 1.208 BF\n",
      "  36 Shortcut Layer: 33,  wt = 0, wn = 0, outputs:  64 x  64 x 128 0.001 BF\n",
      "  37 conv    128       1 x 1/ 1     64 x  64 x 128 ->   64 x  64 x 128 0.134 BF\n",
      "  38 conv    128       3 x 3/ 1     64 x  64 x 128 ->   64 x  64 x 128 1.208 BF\n",
      "  39 Shortcut Layer: 36,  wt = 0, wn = 0, outputs:  64 x  64 x 128 0.001 BF\n",
      "  40 conv    128       1 x 1/ 1     64 x  64 x 128 ->   64 x  64 x 128 0.134 BF\n",
      "  41 conv    128       3 x 3/ 1     64 x  64 x 128 ->   64 x  64 x 128 1.208 BF\n",
      "  42 Shortcut Layer: 39,  wt = 0, wn = 0, outputs:  64 x  64 x 128 0.001 BF\n",
      "  43 conv    128       1 x 1/ 1     64 x  64 x 128 ->   64 x  64 x 128 0.134 BF\n",
      "  44 conv    128       3 x 3/ 1     64 x  64 x 128 ->   64 x  64 x 128 1.208 BF\n",
      "  45 Shortcut Layer: 42,  wt = 0, wn = 0, outputs:  64 x  64 x 128 0.001 BF\n",
      "  46 conv    128       1 x 1/ 1     64 x  64 x 128 ->   64 x  64 x 128 0.134 BF\n",
      "  47 conv    128       3 x 3/ 1     64 x  64 x 128 ->   64 x  64 x 128 1.208 BF\n",
      "  48 Shortcut Layer: 45,  wt = 0, wn = 0, outputs:  64 x  64 x 128 0.001 BF\n",
      "  49 conv    128       1 x 1/ 1     64 x  64 x 128 ->   64 x  64 x 128 0.134 BF\n",
      "  50 conv    128       3 x 3/ 1     64 x  64 x 128 ->   64 x  64 x 128 1.208 BF\n",
      "  51 Shortcut Layer: 48,  wt = 0, wn = 0, outputs:  64 x  64 x 128 0.001 BF\n",
      "  52 conv    128       1 x 1/ 1     64 x  64 x 128 ->   64 x  64 x 128 0.134 BF\n",
      "  53 route  52 25 \t                           ->   64 x  64 x 256 \n",
      "  54 conv    256       1 x 1/ 1     64 x  64 x 256 ->   64 x  64 x 256 0.537 BF\n",
      "  55 conv    512       3 x 3/ 2     64 x  64 x 256 ->   32 x  32 x 512 2.416 BF\n",
      "  56 conv    256       1 x 1/ 1     32 x  32 x 512 ->   32 x  32 x 256 0.268 BF\n",
      "  57 route  55 \t\t                           ->   32 x  32 x 512 \n",
      "  58 conv    256       1 x 1/ 1     32 x  32 x 512 ->   32 x  32 x 256 0.268 BF\n",
      "  59 conv    256       1 x 1/ 1     32 x  32 x 256 ->   32 x  32 x 256 0.134 BF\n",
      "  60 conv    256       3 x 3/ 1     32 x  32 x 256 ->   32 x  32 x 256 1.208 BF\n",
      "  61 Shortcut Layer: 58,  wt = 0, wn = 0, outputs:  32 x  32 x 256 0.000 BF\n",
      "  62 conv    256       1 x 1/ 1     32 x  32 x 256 ->   32 x  32 x 256 0.134 BF\n",
      "  63 conv    256       3 x 3/ 1     32 x  32 x 256 ->   32 x  32 x 256 1.208 BF\n",
      "  64 Shortcut Layer: 61,  wt = 0, wn = 0, outputs:  32 x  32 x 256 0.000 BF\n",
      "  65 conv    256       1 x 1/ 1     32 x  32 x 256 ->   32 x  32 x 256 0.134 BF\n",
      "  66 conv    256       3 x 3/ 1     32 x  32 x 256 ->   32 x  32 x 256 1.208 BF\n",
      "  67 Shortcut Layer: 64,  wt = 0, wn = 0, outputs:  32 x  32 x 256 0.000 BF\n",
      "  68 conv    256       1 x 1/ 1     32 x  32 x 256 ->   32 x  32 x 256 0.134 BF\n",
      "  69 conv    256       3 x 3/ 1     32 x  32 x 256 ->   32 x  32 x 256 1.208 BF\n",
      "  70 Shortcut Layer: 67,  wt = 0, wn = 0, outputs:  32 x  32 x 256 0.000 BF\n",
      "  71 conv    256       1 x 1/ 1     32 x  32 x 256 ->   32 x  32 x 256 0.134 BF\n",
      "  72 conv    256       3 x 3/ 1     32 x  32 x 256 ->   32 x  32 x 256 1.208 BF\n",
      "  73 Shortcut Layer: 70,  wt = 0, wn = 0, outputs:  32 x  32 x 256 0.000 BF\n",
      "  74 conv    256       1 x 1/ 1     32 x  32 x 256 ->   32 x  32 x 256 0.134 BF\n",
      "  75 conv    256       3 x 3/ 1     32 x  32 x 256 ->   32 x  32 x 256 1.208 BF\n",
      "  76 Shortcut Layer: 73,  wt = 0, wn = 0, outputs:  32 x  32 x 256 0.000 BF\n",
      "  77 conv    256       1 x 1/ 1     32 x  32 x 256 ->   32 x  32 x 256 0.134 BF\n",
      "  78 conv    256       3 x 3/ 1     32 x  32 x 256 ->   32 x  32 x 256 1.208 BF\n",
      "  79 Shortcut Layer: 76,  wt = 0, wn = 0, outputs:  32 x  32 x 256 0.000 BF\n",
      "  80 conv    256       1 x 1/ 1     32 x  32 x 256 ->   32 x  32 x 256 0.134 BF\n",
      "  81 conv    256       3 x 3/ 1     32 x  32 x 256 ->   32 x  32 x 256 1.208 BF\n",
      "  82 Shortcut Layer: 79,  wt = 0, wn = 0, outputs:  32 x  32 x 256 0.000 BF\n",
      "  83 conv    256       1 x 1/ 1     32 x  32 x 256 ->   32 x  32 x 256 0.134 BF\n",
      "  84 route  83 56 \t                           ->   32 x  32 x 512 \n",
      "  85 conv    512       1 x 1/ 1     32 x  32 x 512 ->   32 x  32 x 512 0.537 BF\n",
      "  86 conv   1024       3 x 3/ 2     32 x  32 x 512 ->   16 x  16 x1024 2.416 BF\n",
      "  87 conv    512       1 x 1/ 1     16 x  16 x1024 ->   16 x  16 x 512 0.268 BF\n",
      "  88 route  86 \t\t                           ->   16 x  16 x1024 \n",
      "  89 conv    512       1 x 1/ 1     16 x  16 x1024 ->   16 x  16 x 512 0.268 BF\n",
      "  90 conv    512       1 x 1/ 1     16 x  16 x 512 ->   16 x  16 x 512 0.134 BF\n",
      "  91 conv    512       3 x 3/ 1     16 x  16 x 512 ->   16 x  16 x 512 1.208 BF\n",
      "  92 Shortcut Layer: 89,  wt = 0, wn = 0, outputs:  16 x  16 x 512 0.000 BF\n",
      "  93 conv    512       1 x 1/ 1     16 x  16 x 512 ->   16 x  16 x 512 0.134 BF\n",
      "  94 conv    512       3 x 3/ 1     16 x  16 x 512 ->   16 x  16 x 512 1.208 BF\n",
      "  95 Shortcut Layer: 92,  wt = 0, wn = 0, outputs:  16 x  16 x 512 0.000 BF\n",
      "  96 conv    512       1 x 1/ 1     16 x  16 x 512 ->   16 x  16 x 512 0.134 BF\n",
      "  97 conv    512       3 x 3/ 1     16 x  16 x 512 ->   16 x  16 x 512 1.208 BF\n",
      "  98 Shortcut Layer: 95,  wt = 0, wn = 0, outputs:  16 x  16 x 512 0.000 BF\n",
      "  99 conv    512       1 x 1/ 1     16 x  16 x 512 ->   16 x  16 x 512 0.134 BF\n",
      " 100 conv    512       3 x 3/ 1     16 x  16 x 512 ->   16 x  16 x 512 1.208 BF\n",
      " 101 Shortcut Layer: 98,  wt = 0, wn = 0, outputs:  16 x  16 x 512 0.000 BF\n",
      " 102 conv    512       1 x 1/ 1     16 x  16 x 512 ->   16 x  16 x 512 0.134 BF\n",
      " 103 route  102 87 \t                           ->   16 x  16 x1024 \n",
      " 104 conv   1024       1 x 1/ 1     16 x  16 x1024 ->   16 x  16 x1024 0.537 BF\n",
      " 105 conv    512       1 x 1/ 1     16 x  16 x1024 ->   16 x  16 x 512 0.268 BF\n",
      " 106 conv   1024       3 x 3/ 1     16 x  16 x 512 ->   16 x  16 x1024 2.416 BF\n",
      " 107 conv    512       1 x 1/ 1     16 x  16 x1024 ->   16 x  16 x 512 0.268 BF\n",
      " 108 max                5x 5/ 1     16 x  16 x 512 ->   16 x  16 x 512 0.003 BF\n",
      " 109 route  107 \t\t                           ->   16 x  16 x 512 \n",
      " 110 max                6x 6/ 1     16 x  16 x 512 ->   16 x  16 x 512 0.005 BF\n",
      " 111 route  107 \t\t                           ->   16 x  16 x 512 \n",
      " 112 max                8x 8/ 1     16 x  16 x 512 ->   16 x  16 x 512 0.008 BF\n",
      " 113 route  112 110 108 107 \t                   ->   16 x  16 x2048 \n",
      " 114 conv    512       1 x 1/ 1     16 x  16 x2048 ->   16 x  16 x 512 0.537 BF\n",
      " 115 conv   1024       3 x 3/ 1     16 x  16 x 512 ->   16 x  16 x1024 2.416 BF\n",
      " 116 conv    512       1 x 1/ 1     16 x  16 x1024 ->   16 x  16 x 512 0.268 BF\n",
      " 117 conv    256       1 x 1/ 1     16 x  16 x 512 ->   16 x  16 x 256 0.067 BF\n",
      " 118 upsample                 2x    16 x  16 x 256 ->   32 x  32 x 256\n",
      " 119 route  85 \t\t                           ->   32 x  32 x 512 \n",
      " 120 conv    256       1 x 1/ 1     32 x  32 x 512 ->   32 x  32 x 256 0.268 BF\n",
      " 121 route  120 118 \t                           ->   32 x  32 x 512 \n",
      " 122 conv    256       1 x 1/ 1     32 x  32 x 512 ->   32 x  32 x 256 0.268 BF\n",
      " 123 conv    512       3 x 3/ 1     32 x  32 x 256 ->   32 x  32 x 512 2.416 BF\n",
      " 124 conv    256       1 x 1/ 1     32 x  32 x 512 ->   32 x  32 x 256 0.268 BF\n",
      " 125 conv    512       3 x 3/ 1     32 x  32 x 256 ->   32 x  32 x 512 2.416 BF\n",
      " 126 conv    256       1 x 1/ 1     32 x  32 x 512 ->   32 x  32 x 256 0.268 BF\n",
      " 127 conv    128       1 x 1/ 1     32 x  32 x 256 ->   32 x  32 x 128 0.067 BF\n",
      " 128 upsample                 2x    32 x  32 x 128 ->   64 x  64 x 128\n",
      " 129 route  54 \t\t                           ->   64 x  64 x 256 \n",
      " 130 conv    128       1 x 1/ 1     64 x  64 x 256 ->   64 x  64 x 128 0.268 BF\n",
      " 131 route  130 128 \t                           ->   64 x  64 x 256 \n",
      " 132 conv    128       1 x 1/ 1     64 x  64 x 256 ->   64 x  64 x 128 0.268 BF\n",
      " 133 conv    256       3 x 3/ 1     64 x  64 x 128 ->   64 x  64 x 256 2.416 BF\n",
      " 134 conv    128       1 x 1/ 1     64 x  64 x 256 ->   64 x  64 x 128 0.268 BF\n",
      " 135 conv    256       3 x 3/ 1     64 x  64 x 128 ->   64 x  64 x 256 2.416 BF\n",
      " 136 conv    128       1 x 1/ 1     64 x  64 x 256 ->   64 x  64 x 128 0.268 BF\n",
      " 137 conv    256       3 x 3/ 1     64 x  64 x 128 ->   64 x  64 x 256 2.416 BF\n",
      " 138 conv     33       1 x 1/ 1     64 x  64 x 256 ->   64 x  64 x  33 0.069 BF\n",
      " 139 yolo\n",
      "[yolo] params: iou loss: ciou (4), iou_norm: 0.07, obj_norm: 1.00, cls_norm: 1.00, delta_norm: 1.00, scale_x_y: 1.20\n",
      "nms_kind: greedynms (1), beta = 0.600000 \n",
      " 140 route  136 \t\t                           ->   64 x  64 x 128 \n",
      " 141 conv    256       3 x 3/ 2     64 x  64 x 128 ->   32 x  32 x 256 0.604 BF\n",
      " 142 route  141 126 \t                           ->   32 x  32 x 512 \n",
      " 143 conv    256       1 x 1/ 1     32 x  32 x 512 ->   32 x  32 x 256 0.268 BF\n",
      " 144 conv    512       3 x 3/ 1     32 x  32 x 256 ->   32 x  32 x 512 2.416 BF\n",
      " 145 conv    256       1 x 1/ 1     32 x  32 x 512 ->   32 x  32 x 256 0.268 BF\n",
      " 146 conv    512       3 x 3/ 1     32 x  32 x 256 ->   32 x  32 x 512 2.416 BF\n",
      " 147 conv    256       1 x 1/ 1     32 x  32 x 512 ->   32 x  32 x 256 0.268 BF\n",
      " 148 conv    512       3 x 3/ 1     32 x  32 x 256 ->   32 x  32 x 512 2.416 BF\n",
      " 149 conv     33       1 x 1/ 1     32 x  32 x 512 ->   32 x  32 x  33 0.035 BF\n",
      " 150 yolo\n",
      "[yolo] params: iou loss: ciou (4), iou_norm: 0.07, obj_norm: 1.00, cls_norm: 1.00, delta_norm: 1.00, scale_x_y: 1.10\n",
      "nms_kind: greedynms (1), beta = 0.600000 \n",
      " 151 route  147 \t\t                           ->   32 x  32 x 256 \n",
      " 152 conv    512       3 x 3/ 2     32 x  32 x 256 ->   16 x  16 x 512 0.604 BF\n",
      " 153 route  152 116 \t                           ->   16 x  16 x1024 \n",
      " 154 conv    512       1 x 1/ 1     16 x  16 x1024 ->   16 x  16 x 512 0.268 BF\n",
      " 155 conv   1024       3 x 3/ 1     16 x  16 x 512 ->   16 x  16 x1024 2.416 BF\n",
      " 156 conv    512       1 x 1/ 1     16 x  16 x1024 ->   16 x  16 x 512 0.268 BF\n",
      " 157 conv   1024       3 x 3/ 1     16 x  16 x 512 ->   16 x  16 x1024 2.416 BF\n",
      " 158 conv    512       1 x 1/ 1     16 x  16 x1024 ->   16 x  16 x 512 0.268 BF\n",
      " 159 conv   1024       3 x 3/ 1     16 x  16 x 512 ->   16 x  16 x1024 2.416 BF\n",
      " 160 conv     33       1 x 1/ 1     16 x  16 x1024 ->   16 x  16 x  33 0.017 BF\n",
      " 161 yolo\n",
      "[yolo] params: iou loss: ciou (4), iou_norm: 0.07, obj_norm: 1.00, cls_norm: 1.00, delta_norm: 1.00, scale_x_y: 1.05\n",
      "nms_kind: greedynms (1), beta = 0.600000 \n",
      "Total BFLOPS 90.261 \n",
      "avg_outputs = 742908 \n",
      " Allocate additional workspace_size = 52.43 MB \n",
      "yolov4-leaky_poker\n",
      " 0 : compute_capability = 610, cudnn_half = 0, GPU: Tesla P4 \n",
      "net.optimized_memory = 0 \n",
      "mini_batch = 3, batch = 24, time_steps = 1, train = 1 \n",
      "   layer   filters  size/strd(dil)      input                output\n",
      "   0 conv     32       3 x 3/ 1    512 x 512 x   3 ->  512 x 512 x  32 0.453 BF\n",
      "   1 conv     64       3 x 3/ 2    512 x 512 x  32 ->  256 x 256 x  64 2.416 BF\n",
      "   2 conv     64       1 x 1/ 1    256 x 256 x  64 ->  256 x 256 x  64 0.537 BF\n",
      "   3 route  1 \t\t                           ->  256 x 256 x  64 \n",
      "   4 conv     64       1 x 1/ 1    256 x 256 x  64 ->  256 x 256 x  64 0.537 BF\n",
      "   5 conv     32       1 x 1/ 1    256 x 256 x  64 ->  256 x 256 x  32 0.268 BF\n",
      "   6 conv     64       3 x 3/ 1    256 x 256 x  32 ->  256 x 256 x  64 2.416 BF\n",
      "   7 Shortcut Layer: 4,  wt = 0, wn = 0, outputs: 256 x 256 x  64 0.004 BF\n",
      "   8 conv     64       1 x 1/ 1    256 x 256 x  64 ->  256 x 256 x  64 0.537 BF\n",
      "   9 route  8 2 \t                           ->  256 x 256 x 128 \n",
      "  10 conv     64       1 x 1/ 1    256 x 256 x 128 ->  256 x 256 x  64 1.074 BF\n",
      "  11 conv    128       3 x 3/ 2    256 x 256 x  64 ->  128 x 128 x 128 2.416 BF\n",
      "  12 conv     64       1 x 1/ 1    128 x 128 x 128 ->  128 x 128 x  64 0.268 BF\n",
      "  13 route  11 \t\t                           ->  128 x 128 x 128 \n",
      "  14 conv     64       1 x 1/ 1    128 x 128 x 128 ->  128 x 128 x  64 0.268 BF\n",
      "  15 conv     64       1 x 1/ 1    128 x 128 x  64 ->  128 x 128 x  64 0.134 BF\n",
      "  16 conv     64       3 x 3/ 1    128 x 128 x  64 ->  128 x 128 x  64 1.208 BF\n",
      "  17 Shortcut Layer: 14,  wt = 0, wn = 0, outputs: 128 x 128 x  64 0.001 BF\n",
      "  18 conv     64       1 x 1/ 1    128 x 128 x  64 ->  128 x 128 x  64 0.134 BF\n",
      "  19 conv     64       3 x 3/ 1    128 x 128 x  64 ->  128 x 128 x  64 1.208 BF\n",
      "  20 Shortcut Layer: 17,  wt = 0, wn = 0, outputs: 128 x 128 x  64 0.001 BF\n",
      "  21 conv     64       1 x 1/ 1    128 x 128 x  64 ->  128 x 128 x  64 0.134 BF\n",
      "  22 route  21 12 \t                           ->  128 x 128 x 128 \n",
      "  23 conv    128       1 x 1/ 1    128 x 128 x 128 ->  128 x 128 x 128 0.537 BF\n",
      "  24 conv    256       3 x 3/ 2    128 x 128 x 128 ->   64 x  64 x 256 2.416 BF\n",
      "  25 conv    128       1 x 1/ 1     64 x  64 x 256 ->   64 x  64 x 128 0.268 BF\n",
      "  26 route  24 \t\t                           ->   64 x  64 x 256 \n",
      "  27 conv    128       1 x 1/ 1     64 x  64 x 256 ->   64 x  64 x 128 0.268 BF\n",
      "  28 conv    128       1 x 1/ 1     64 x  64 x 128 ->   64 x  64 x 128 0.134 BF\n",
      "  29 conv    128       3 x 3/ 1     64 x  64 x 128 ->   64 x  64 x 128 1.208 BF\n",
      "  30 Shortcut Layer: 27,  wt = 0, wn = 0, outputs:  64 x  64 x 128 0.001 BF\n",
      "  31 conv    128       1 x 1/ 1     64 x  64 x 128 ->   64 x  64 x 128 0.134 BF\n",
      "  32 conv    128       3 x 3/ 1     64 x  64 x 128 ->   64 x  64 x 128 1.208 BF\n",
      "  33 Shortcut Layer: 30,  wt = 0, wn = 0, outputs:  64 x  64 x 128 0.001 BF\n",
      "  34 conv    128       1 x 1/ 1     64 x  64 x 128 ->   64 x  64 x 128 0.134 BF\n",
      "  35 conv    128       3 x 3/ 1     64 x  64 x 128 ->   64 x  64 x 128 1.208 BF\n",
      "  36 Shortcut Layer: 33,  wt = 0, wn = 0, outputs:  64 x  64 x 128 0.001 BF\n",
      "  37 conv    128       1 x 1/ 1     64 x  64 x 128 ->   64 x  64 x 128 0.134 BF\n",
      "  38 conv    128       3 x 3/ 1     64 x  64 x 128 ->   64 x  64 x 128 1.208 BF\n",
      "  39 Shortcut Layer: 36,  wt = 0, wn = 0, outputs:  64 x  64 x 128 0.001 BF\n",
      "  40 conv    128       1 x 1/ 1     64 x  64 x 128 ->   64 x  64 x 128 0.134 BF\n",
      "  41 conv    128       3 x 3/ 1     64 x  64 x 128 ->   64 x  64 x 128 1.208 BF\n",
      "  42 Shortcut Layer: 39,  wt = 0, wn = 0, outputs:  64 x  64 x 128 0.001 BF\n",
      "  43 conv    128       1 x 1/ 1     64 x  64 x 128 ->   64 x  64 x 128 0.134 BF\n",
      "  44 conv    128       3 x 3/ 1     64 x  64 x 128 ->   64 x  64 x 128 1.208 BF\n",
      "  45 Shortcut Layer: 42,  wt = 0, wn = 0, outputs:  64 x  64 x 128 0.001 BF\n",
      "  46 conv    128       1 x 1/ 1     64 x  64 x 128 ->   64 x  64 x 128 0.134 BF\n",
      "  47 conv    128       3 x 3/ 1     64 x  64 x 128 ->   64 x  64 x 128 1.208 BF\n",
      "  48 Shortcut Layer: 45,  wt = 0, wn = 0, outputs:  64 x  64 x 128 0.001 BF\n",
      "  49 conv    128       1 x 1/ 1     64 x  64 x 128 ->   64 x  64 x 128 0.134 BF\n",
      "  50 conv    128       3 x 3/ 1     64 x  64 x 128 ->   64 x  64 x 128 1.208 BF\n",
      "  51 Shortcut Layer: 48,  wt = 0, wn = 0, outputs:  64 x  64 x 128 0.001 BF\n",
      "  52 conv    128       1 x 1/ 1     64 x  64 x 128 ->   64 x  64 x 128 0.134 BF\n",
      "  53 route  52 25 \t                           ->   64 x  64 x 256 \n",
      "  54 conv    256       1 x 1/ 1     64 x  64 x 256 ->   64 x  64 x 256 0.537 BF\n",
      "  55 conv    512       3 x 3/ 2     64 x  64 x 256 ->   32 x  32 x 512 2.416 BF\n",
      "  56 conv    256       1 x 1/ 1     32 x  32 x 512 ->   32 x  32 x 256 0.268 BF\n",
      "  57 route  55 \t\t                           ->   32 x  32 x 512 \n",
      "  58 conv    256       1 x 1/ 1     32 x  32 x 512 ->   32 x  32 x 256 0.268 BF\n",
      "  59 conv    256       1 x 1/ 1     32 x  32 x 256 ->   32 x  32 x 256 0.134 BF\n",
      "  60 conv    256       3 x 3/ 1     32 x  32 x 256 ->   32 x  32 x 256 1.208 BF\n",
      "  61 Shortcut Layer: 58,  wt = 0, wn = 0, outputs:  32 x  32 x 256 0.000 BF\n",
      "  62 conv    256       1 x 1/ 1     32 x  32 x 256 ->   32 x  32 x 256 0.134 BF\n",
      "  63 conv    256       3 x 3/ 1     32 x  32 x 256 ->   32 x  32 x 256 1.208 BF\n",
      "  64 Shortcut Layer: 61,  wt = 0, wn = 0, outputs:  32 x  32 x 256 0.000 BF\n",
      "  65 conv    256       1 x 1/ 1     32 x  32 x 256 ->   32 x  32 x 256 0.134 BF\n",
      "  66 conv    256       3 x 3/ 1     32 x  32 x 256 ->   32 x  32 x 256 1.208 BF\n",
      "  67 Shortcut Layer: 64,  wt = 0, wn = 0, outputs:  32 x  32 x 256 0.000 BF\n",
      "  68 conv    256       1 x 1/ 1     32 x  32 x 256 ->   32 x  32 x 256 0.134 BF\n",
      "  69 conv    256       3 x 3/ 1     32 x  32 x 256 ->   32 x  32 x 256 1.208 BF\n",
      "  70 Shortcut Layer: 67,  wt = 0, wn = 0, outputs:  32 x  32 x 256 0.000 BF\n",
      "  71 conv    256       1 x 1/ 1     32 x  32 x 256 ->   32 x  32 x 256 0.134 BF\n",
      "  72 conv    256       3 x 3/ 1     32 x  32 x 256 ->   32 x  32 x 256 1.208 BF\n",
      "  73 Shortcut Layer: 70,  wt = 0, wn = 0, outputs:  32 x  32 x 256 0.000 BF\n",
      "  74 conv    256       1 x 1/ 1     32 x  32 x 256 ->   32 x  32 x 256 0.134 BF\n",
      "  75 conv    256       3 x 3/ 1     32 x  32 x 256 ->   32 x  32 x 256 1.208 BF\n",
      "  76 Shortcut Layer: 73,  wt = 0, wn = 0, outputs:  32 x  32 x 256 0.000 BF\n",
      "  77 conv    256       1 x 1/ 1     32 x  32 x 256 ->   32 x  32 x 256 0.134 BF\n",
      "  78 conv    256       3 x 3/ 1     32 x  32 x 256 ->   32 x  32 x 256 1.208 BF\n",
      "  79 Shortcut Layer: 76,  wt = 0, wn = 0, outputs:  32 x  32 x 256 0.000 BF\n",
      "  80 conv    256       1 x 1/ 1     32 x  32 x 256 ->   32 x  32 x 256 0.134 BF\n",
      "  81 conv    256       3 x 3/ 1     32 x  32 x 256 ->   32 x  32 x 256 1.208 BF\n",
      "  82 Shortcut Layer: 79,  wt = 0, wn = 0, outputs:  32 x  32 x 256 0.000 BF\n",
      "  83 conv    256       1 x 1/ 1     32 x  32 x 256 ->   32 x  32 x 256 0.134 BF\n",
      "  84 route  83 56 \t                           ->   32 x  32 x 512 \n",
      "  85 conv    512       1 x 1/ 1     32 x  32 x 512 ->   32 x  32 x 512 0.537 BF\n",
      "  86 conv   1024       3 x 3/ 2     32 x  32 x 512 ->   16 x  16 x1024 2.416 BF\n",
      "  87 conv    512       1 x 1/ 1     16 x  16 x1024 ->   16 x  16 x 512 0.268 BF\n",
      "  88 route  86 \t\t                           ->   16 x  16 x1024 \n",
      "  89 conv    512       1 x 1/ 1     16 x  16 x1024 ->   16 x  16 x 512 0.268 BF\n",
      "  90 conv    512       1 x 1/ 1     16 x  16 x 512 ->   16 x  16 x 512 0.134 BF\n",
      "  91 conv    512       3 x 3/ 1     16 x  16 x 512 ->   16 x  16 x 512 1.208 BF\n",
      "  92 Shortcut Layer: 89,  wt = 0, wn = 0, outputs:  16 x  16 x 512 0.000 BF\n",
      "  93 conv    512       1 x 1/ 1     16 x  16 x 512 ->   16 x  16 x 512 0.134 BF\n",
      "  94 conv    512       3 x 3/ 1     16 x  16 x 512 ->   16 x  16 x 512 1.208 BF\n",
      "  95 Shortcut Layer: 92,  wt = 0, wn = 0, outputs:  16 x  16 x 512 0.000 BF\n",
      "  96 conv    512       1 x 1/ 1     16 x  16 x 512 ->   16 x  16 x 512 0.134 BF\n",
      "  97 conv    512       3 x 3/ 1     16 x  16 x 512 ->   16 x  16 x 512 1.208 BF\n",
      "  98 Shortcut Layer: 95,  wt = 0, wn = 0, outputs:  16 x  16 x 512 0.000 BF\n",
      "  99 conv    512       1 x 1/ 1     16 x  16 x 512 ->   16 x  16 x 512 0.134 BF\n",
      " 100 conv    512       3 x 3/ 1     16 x  16 x 512 ->   16 x  16 x 512 1.208 BF\n",
      " 101 Shortcut Layer: 98,  wt = 0, wn = 0, outputs:  16 x  16 x 512 0.000 BF\n",
      " 102 conv    512       1 x 1/ 1     16 x  16 x 512 ->   16 x  16 x 512 0.134 BF\n",
      " 103 route  102 87 \t                           ->   16 x  16 x1024 \n",
      " 104 conv   1024       1 x 1/ 1     16 x  16 x1024 ->   16 x  16 x1024 0.537 BF\n",
      " 105 conv    512       1 x 1/ 1     16 x  16 x1024 ->   16 x  16 x 512 0.268 BF\n",
      " 106 conv   1024       3 x 3/ 1     16 x  16 x 512 ->   16 x  16 x1024 2.416 BF\n",
      " 107 conv    512       1 x 1/ 1     16 x  16 x1024 ->   16 x  16 x 512 0.268 BF\n",
      " 108 max                5x 5/ 1     16 x  16 x 512 ->   16 x  16 x 512 0.003 BF\n",
      " 109 route  107 \t\t                           ->   16 x  16 x 512 \n",
      " 110 max                6x 6/ 1     16 x  16 x 512 ->   16 x  16 x 512 0.005 BF\n",
      " 111 route  107 \t\t                           ->   16 x  16 x 512 \n",
      " 112 max                8x 8/ 1     16 x  16 x 512 ->   16 x  16 x 512 0.008 BF\n",
      " 113 route  112 110 108 107 \t                   ->   16 x  16 x2048 \n",
      " 114 conv    512       1 x 1/ 1     16 x  16 x2048 ->   16 x  16 x 512 0.537 BF\n",
      " 115 conv   1024       3 x 3/ 1     16 x  16 x 512 ->   16 x  16 x1024 2.416 BF\n",
      " 116 conv    512       1 x 1/ 1     16 x  16 x1024 ->   16 x  16 x 512 0.268 BF\n",
      " 117 conv    256       1 x 1/ 1     16 x  16 x 512 ->   16 x  16 x 256 0.067 BF\n",
      " 118 upsample                 2x    16 x  16 x 256 ->   32 x  32 x 256\n",
      " 119 route  85 \t\t                           ->   32 x  32 x 512 \n",
      " 120 conv    256       1 x 1/ 1     32 x  32 x 512 ->   32 x  32 x 256 0.268 BF\n",
      " 121 route  120 118 \t                           ->   32 x  32 x 512 \n",
      " 122 conv    256       1 x 1/ 1     32 x  32 x 512 ->   32 x  32 x 256 0.268 BF\n",
      " 123 conv    512       3 x 3/ 1     32 x  32 x 256 ->   32 x  32 x 512 2.416 BF\n",
      " 124 conv    256       1 x 1/ 1     32 x  32 x 512 ->   32 x  32 x 256 0.268 BF\n",
      " 125 conv    512       3 x 3/ 1     32 x  32 x 256 ->   32 x  32 x 512 2.416 BF\n",
      " 126 conv    256       1 x 1/ 1     32 x  32 x 512 ->   32 x  32 x 256 0.268 BF\n",
      " 127 conv    128       1 x 1/ 1     32 x  32 x 256 ->   32 x  32 x 128 0.067 BF\n",
      " 128 upsample                 2x    32 x  32 x 128 ->   64 x  64 x 128\n",
      " 129 route  54 \t\t                           ->   64 x  64 x 256 \n",
      " 130 conv    128       1 x 1/ 1     64 x  64 x 256 ->   64 x  64 x 128 0.268 BF\n",
      " 131 route  130 128 \t                           ->   64 x  64 x 256 \n",
      " 132 conv    128       1 x 1/ 1     64 x  64 x 256 ->   64 x  64 x 128 0.268 BF\n",
      " 133 conv    256       3 x 3/ 1     64 x  64 x 128 ->   64 x  64 x 256 2.416 BF\n",
      " 134 conv    128       1 x 1/ 1     64 x  64 x 256 ->   64 x  64 x 128 0.268 BF\n",
      " 135 conv    256       3 x 3/ 1     64 x  64 x 128 ->   64 x  64 x 256 2.416 BF\n",
      " 136 conv    128       1 x 1/ 1     64 x  64 x 256 ->   64 x  64 x 128 0.268 BF\n",
      " 137 conv    256       3 x 3/ 1     64 x  64 x 128 ->   64 x  64 x 256 2.416 BF\n",
      " 138 conv     33       1 x 1/ 1     64 x  64 x 256 ->   64 x  64 x  33 0.069 BF\n",
      " 139 yolo\n",
      "[yolo] params: iou loss: ciou (4), iou_norm: 0.07, obj_norm: 1.00, cls_norm: 1.00, delta_norm: 1.00, scale_x_y: 1.20\n",
      "nms_kind: greedynms (1), beta = 0.600000 \n",
      " 140 route  136 \t\t                           ->   64 x  64 x 128 \n",
      " 141 conv    256       3 x 3/ 2     64 x  64 x 128 ->   32 x  32 x 256 0.604 BF\n",
      " 142 route  141 126 \t                           ->   32 x  32 x 512 \n",
      " 143 conv    256       1 x 1/ 1     32 x  32 x 512 ->   32 x  32 x 256 0.268 BF\n",
      " 144 conv    512       3 x 3/ 1     32 x  32 x 256 ->   32 x  32 x 512 2.416 BF\n",
      " 145 conv    256       1 x 1/ 1     32 x  32 x 512 ->   32 x  32 x 256 0.268 BF\n",
      " 146 conv    512       3 x 3/ 1     32 x  32 x 256 ->   32 x  32 x 512 2.416 BF\n",
      " 147 conv    256       1 x 1/ 1     32 x  32 x 512 ->   32 x  32 x 256 0.268 BF\n",
      " 148 conv    512       3 x 3/ 1     32 x  32 x 256 ->   32 x  32 x 512 2.416 BF\n",
      " 149 conv     33       1 x 1/ 1     32 x  32 x 512 ->   32 x  32 x  33 0.035 BF\n",
      " 150 yolo\n",
      "[yolo] params: iou loss: ciou (4), iou_norm: 0.07, obj_norm: 1.00, cls_norm: 1.00, delta_norm: 1.00, scale_x_y: 1.10\n",
      "nms_kind: greedynms (1), beta = 0.600000 \n",
      " 151 route  147 \t\t                           ->   32 x  32 x 256 \n",
      " 152 conv    512       3 x 3/ 2     32 x  32 x 256 ->   16 x  16 x 512 0.604 BF\n",
      " 153 route  152 116 \t                           ->   16 x  16 x1024 \n",
      " 154 conv    512       1 x 1/ 1     16 x  16 x1024 ->   16 x  16 x 512 0.268 BF\n",
      " 155 conv   1024       3 x 3/ 1     16 x  16 x 512 ->   16 x  16 x1024 2.416 BF\n",
      " 156 conv    512       1 x 1/ 1     16 x  16 x1024 ->   16 x  16 x 512 0.268 BF\n",
      " 157 conv   1024       3 x 3/ 1     16 x  16 x 512 ->   16 x  16 x1024 2.416 BF\n",
      " 158 conv    512       1 x 1/ 1     16 x  16 x1024 ->   16 x  16 x 512 0.268 BF\n",
      " 159 conv   1024       3 x 3/ 1     16 x  16 x 512 ->   16 x  16 x1024 2.416 BF\n",
      " 160 conv     33       1 x 1/ 1     16 x  16 x1024 ->   16 x  16 x  33 0.017 BF\n",
      " 161 yolo\n",
      "[yolo] params: iou loss: ciou (4), iou_norm: 0.07, obj_norm: 1.00, cls_norm: 1.00, delta_norm: 1.00, scale_x_y: 1.05\n",
      "nms_kind: greedynms (1), beta = 0.600000 \n",
      "Total BFLOPS 90.261 \n",
      "avg_outputs = 742908 \n",
      " Allocate additional workspace_size = 52.43 MB \n",
      "Loading weights from /content/kids-math-study-ai-mate-on-ultra96v2/dk_model/yolov4-leaky_best.weights...\n",
      " seen 64, trained: 480 K-images (7 Kilo-batches_64) \n",
      "Done! Loaded 162 layers from weights-file \n",
      "Learning Rate: 2.61e-05, Momentum: 0.949, Decay: 0.0005\n",
      " Detection layer: 139 - type = 28 \n",
      " Detection layer: 150 - type = 28 \n",
      " Detection layer: 161 - type = 28 \n",
      "Resizing, random_coef = 1.40 \n",
      "\n",
      " 736 x 736 \n",
      " Create 6 permanent cpu-threads \n",
      " Try to set subdivisions=64 in your cfg-file. \n",
      "CUDA status Error: file: ./src/dark_cuda.c : () : line: 373 : build time: Dec 15 2020 - 06:06:09 \n",
      "\n",
      " CUDA Error: out of memory\n",
      "CUDA Error: out of memory: File exists\n",
      "darknet: ./src/utils.c:331: error: Assertion `0' failed.\n",
      "./train_yolov4_colab.sh: line 21:  1584 Aborted                 (core dumped) ./darknet detector train -map /content/kids-math-study-ai-mate-on-ultra96v2/dk_files/obj.data /content/kids-math-study-ai-mate-on-ultra96v2/dk_model/yolov4-leaky_poker.cfg /content/kids-math-study-ai-mate-on-ultra96v2/dk_model/yolov4-leaky_best.weights -dont_show -clear\n"
     ]
    }
   ],
   "source": [
    "!source ./train_yolov4_colab.sh"
   ]
  },
  {
   "cell_type": "markdown",
   "metadata": {
    "id": "_JTBMYlIn9Jw"
   },
   "source": [
    "## Check the model performance\n",
    "The metrics run on the test images so they may not be fully representative, only indicative"
   ]
  },
  {
   "cell_type": "code",
   "execution_count": null,
   "metadata": {
    "colab": {
     "base_uri": "https://localhost:8080/"
    },
    "id": "rgR2aT4tqsty",
    "outputId": "9cdfd3b0-4edc-4251-e0f5-7a6771f12f7a"
   },
   "outputs": [
    {
     "name": "stdout",
     "output_type": "stream",
     "text": [
      "/content/Vitis-In-Depth-Tutorial/Machine_Learning/Design_Tutorials/07-yolov4-tutorial/dk_files\n",
      "/content/Vitis-In-Depth-Tutorial/Machine_Learning/Design_Tutorials/07-yolov4-tutorial/dk_files/train\n"
     ]
    }
   ],
   "source": [
    "!pwd\n",
    "%cd train \n",
    "!cp -rf ../valid/*.* ./"
   ]
  },
  {
   "cell_type": "code",
   "execution_count": null,
   "metadata": {
    "id": "MwAVsyrxrwSI"
   },
   "outputs": [],
   "source": [
    "!./darknet detector map /content/yolotinyv3_medmask_demo/obj.data /content/yolotinyv3_medmask_demo/yolov4-leaky_obj.cfg \"/content/darknet/backup/yolov4-leaky_obj_best.weights\" -points 0"
   ]
  },
  {
   "cell_type": "markdown",
   "metadata": {
    "id": "RfWHgEyy8dz1"
   },
   "source": [
    "## Copy best weights to google drive\n"
   ]
  },
  {
   "cell_type": "code",
   "execution_count": null,
   "metadata": {
    "id": "j9sTCNRt1338"
   },
   "outputs": [],
   "source": [
    "!cp /content/darknet/backup/yolov4-leaky_obj_best.weights  '/content/drive/My Drive/'"
   ]
  }
 ],
 "metadata": {
  "accelerator": "GPU",
  "colab": {
   "collapsed_sections": [],
   "name": "Yolov4_Object_Detector_Training_on_Poker_Data.ipynb",
   "provenance": [],
   "toc_visible": true
  },
  "kernelspec": {
   "display_name": "Python 3",
   "language": "python",
   "name": "python3"
  },
  "language_info": {
   "codemirror_mode": {
    "name": "ipython",
    "version": 3
   },
   "file_extension": ".py",
   "mimetype": "text/x-python",
   "name": "python",
   "nbconvert_exporter": "python",
   "pygments_lexer": "ipython3",
   "version": "3.5.6"
  }
 },
 "nbformat": 4,
 "nbformat_minor": 1
}
